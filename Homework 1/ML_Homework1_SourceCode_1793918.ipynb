{
 "cells": [
  {
   "cell_type": "markdown",
   "id": "8cba1c3fce94180f",
   "metadata": {
    "collapsed": false
   },
   "source": [
    "# Settings"
   ]
  },
  {
   "cell_type": "markdown",
   "source": [
    "### Libraries"
   ],
   "metadata": {
    "collapsed": false
   },
   "id": "17b2d6b4ee22ca6"
  },
  {
   "cell_type": "code",
   "execution_count": 1,
   "outputs": [],
   "source": [
    "import pandas as pd\n",
    "import numpy as np\n",
    "from sklearn.datasets import make_classification\n",
    "from sklearn.model_selection import train_test_split\n",
    "from sklearn.preprocessing import StandardScaler\n",
    "from sklearn.linear_model import LogisticRegression\n",
    "from sklearn.tree import DecisionTreeClassifier\n",
    "from sklearn.ensemble import RandomForestClassifier\n",
    "from sklearn.svm import SVC\n",
    "from sklearn.neighbors import KNeighborsClassifier\n",
    "from sklearn.metrics import accuracy_score\n",
    "from sklearn.metrics import precision_score, recall_score, f1_score, roc_curve, auc\n",
    "from sklearn.metrics import confusion_matrix\n",
    "import matplotlib.pyplot as plt\n",
    "import seaborn as sns\n",
    "from sklearn.model_selection import cross_val_score\n",
    "from sklearn.model_selection import cross_val_predict\n",
    "from xgboost import XGBClassifier\n",
    "from sklearn.metrics import roc_auc_score\n",
    "from sklearn.model_selection import GridSearchCV\n",
    "import time\n",
    "import psutil\n",
    "import utils\n",
    "import os\n",
    "import csv"
   ],
   "metadata": {
    "collapsed": false,
    "ExecuteTime": {
     "end_time": "2023-11-23T08:14:28.281927600Z",
     "start_time": "2023-11-23T08:14:27.796025800Z"
    }
   },
   "id": "4ac1cd6ecf6a3b2b"
  },
  {
   "cell_type": "markdown",
   "source": [
    "### Select Dataset 1 or Dataset 2"
   ],
   "metadata": {
    "collapsed": false
   },
   "id": "bd0b2b5a4986edfd"
  },
  {
   "cell_type": "code",
   "execution_count": 2,
   "outputs": [],
   "source": [
    "while True:\n",
    "    set_dataset = input(\n",
    "        \"Choose a dataset. \\nPress [1] for dataset_1.csv & blind_test1.csv \\nPress [2] for dataset_2.csv & blind_test2.csv\\nPress [exit] to quit\\n\")\n",
    "\n",
    "    if set_dataset == '1':\n",
    "        filepath_train = 'dataset1.csv'\n",
    "        filepath_prediction = 'blind_test1.csv'\n",
    "        break\n",
    "    elif set_dataset == '2':\n",
    "        filepath_train = 'dataset2.csv'\n",
    "        filepath_prediction = 'blind_test2.csv'\n",
    "        break\n",
    "    elif set_dataset.lower() == 'exit':\n",
    "        print('You chose to exit.')\n",
    "        break\n",
    "    else:\n",
    "        print('Invalid input. Please enter 1, 2, or type \"exit\" to quit.')"
   ],
   "metadata": {
    "collapsed": false,
    "ExecuteTime": {
     "end_time": "2023-11-23T08:14:31.475088700Z",
     "start_time": "2023-11-23T08:14:28.281927600Z"
    }
   },
   "id": "3228c88d86af4f18"
  },
  {
   "cell_type": "markdown",
   "source": [
    "### Load Data Function"
   ],
   "metadata": {
    "collapsed": false
   },
   "id": "b7c4ecac9a82c955"
  },
  {
   "cell_type": "code",
   "execution_count": 3,
   "outputs": [],
   "source": [
    "def load_data(csv_filepath):\n",
    "    '''\n",
    "    Load data from a csv file.\n",
    "\n",
    "    :param csv_filepath: path of the .csv file containing the data to load/extract\n",
    "\n",
    "    :return X: array of values associated with the inputs of the data contained in the .csv file\n",
    "    :return Y: array of values associated with the labels of the data contained in the .csv file or None if the file does not contain labels\n",
    "    '''\n",
    "\n",
    "    data = pd.read_csv(csv_filepath)\n",
    "\n",
    "    # Headers' list:\n",
    "    headers = data.columns  # 'x' for inputs, 'y' for labels\n",
    "\n",
    "    # Extract DataFrames based on the headers:\n",
    "    x_data = data[headers[0]]\n",
    "\n",
    "    # Convert an array-like string (e.g., '[0.02, 1.34\\n, 2.12, 3.23\\n]')\n",
    "    # into an array of floats (e.g., [0.02, 1.34, 2.12, 3.23]):\n",
    "    X_data = [[float(feature) for feature in feature_vec.replace('[', '').replace(']', '').split()] for feature_vec in\n",
    "              x_data]\n",
    "\n",
    "    # convert data into numpy arrays\n",
    "    X = np.array(X_data)\n",
    "\n",
    "    if len(headers) > 1:\n",
    "        Y_data = data[headers[1]]\n",
    "        Y = np.array(Y_data)\n",
    "    else:\n",
    "        Y = None\n",
    "\n",
    "    return X, Y"
   ],
   "metadata": {
    "collapsed": false,
    "ExecuteTime": {
     "end_time": "2023-11-23T08:14:31.475088700Z",
     "start_time": "2023-11-23T08:14:31.470578900Z"
    }
   },
   "id": "e2e409ab6cbc299a"
  },
  {
   "cell_type": "markdown",
   "source": [
    "### Data Import"
   ],
   "metadata": {
    "collapsed": false
   },
   "id": "9dfe2e1d70d9ecc5"
  },
  {
   "cell_type": "code",
   "execution_count": 4,
   "id": "f96db51e7769700b",
   "metadata": {
    "collapsed": false,
    "ExecuteTime": {
     "end_time": "2023-11-23T08:14:32.508225900Z",
     "start_time": "2023-11-23T08:14:31.475088700Z"
    }
   },
   "outputs": [],
   "source": [
    "X, Y = load_data(filepath_train)\n",
    "\n",
    "X_train, X_test, y_train, y_test = train_test_split(X, Y, test_size=0.2, random_state=42)\n",
    "\n",
    "scaler = StandardScaler()\n",
    "X_train = scaler.fit_transform(X_train)\n",
    "X_test = scaler.transform(X_test)"
   ]
  },
  {
   "cell_type": "markdown",
   "source": [
    "### Results Tables Inizialization"
   ],
   "metadata": {
    "collapsed": false
   },
   "id": "c8cf4c5f3b2622b2"
  },
  {
   "cell_type": "code",
   "execution_count": 5,
   "outputs": [],
   "source": [
    "results = {\n",
    "    'Algorithm': ['Logistic Regression', 'Decision Tree', 'Random Forest', 'SVM', 'K-Nearest Neighbors', \"XGBoost\"],\n",
    "    'Accuracy [%]': [],\n",
    "    'F1 Score [%]': [],\n",
    "    'Recall [%]': [],\n",
    "    'Precision [%]': [],\n",
    "    'Time [s]': [],\n",
    "    'CPU Usage [%]': [],\n",
    "    'CPU Maximum frequency [MHz]': [],\n",
    "    'RAM Usage [%]': [],\n",
    "    'RAM Used [GB]': []\n",
    "}\n",
    "\n",
    "results_CV = {\n",
    "    'Algorithm': ['Logistic Regression', 'Decision Tree', 'Random Forest', 'SVM', 'K-Nearest Neighbors', \"XGBoost\"],\n",
    "    'Accuracy [%]': [],\n",
    "    'F1 Score [%]': [],\n",
    "    'Recall [%]': [],\n",
    "    'Precision [%]': [],\n",
    "    'Time [s]': [],\n",
    "    'CPU Usage [%]': [],\n",
    "    'CPU Maximum frequency [MHz]': [],\n",
    "    'RAM Usage [%]': [],\n",
    "    'RAM Used [GB]': []\n",
    "}"
   ],
   "metadata": {
    "collapsed": false,
    "ExecuteTime": {
     "end_time": "2023-11-23T08:14:32.511015200Z",
     "start_time": "2023-11-23T08:14:32.508225900Z"
    }
   },
   "id": "1b445c30d0023d15"
  },
  {
   "cell_type": "markdown",
   "source": [
    "### CPU and RAM Measure Inizialization "
   ],
   "metadata": {
    "collapsed": false
   },
   "id": "27e5cc6e34a4b5cd"
  },
  {
   "cell_type": "code",
   "execution_count": 6,
   "id": "e04e5281a1d728dc",
   "metadata": {
    "collapsed": false,
    "ExecuteTime": {
     "end_time": "2023-11-23T08:14:32.522994300Z",
     "start_time": "2023-11-23T08:14:32.511015200Z"
    }
   },
   "outputs": [],
   "source": [
    "def ram_usage():\n",
    "    try:\n",
    "        ram_info = psutil.virtual_memory()\n",
    "        ram_used_gb = ram_info.used / 1024 / 1024 / 1024\n",
    "        ram_percent = ram_info.percent\n",
    "        return {'RAM Used [GB]': ram_used_gb, 'RAM Usage [%]': ram_percent}\n",
    "    except FileNotFoundError:\n",
    "        return {'RAM Used [GB]': None, 'RAM Usage [%]': None}\n",
    "\n",
    "def cpu_usage():       \n",
    "    try:\n",
    "        cpu_percent = max(psutil.cpu_percent(interval=0.1, percpu=True))\n",
    "        cpu_info = psutil.cpu_freq()\n",
    "        return {'CPU Usage [%]': cpu_percent, 'CPU Maximum frequency [MHz]': cpu_info.max}\n",
    "    except FileNotFoundError:\n",
    "        return {'CPU Usage [%]': None, 'CPU Maximum frequency [MHz]': None}"
   ]
  },
  {
   "cell_type": "markdown",
   "id": "7d44e4a4b28d3f4f",
   "metadata": {
    "collapsed": false
   },
   "source": [
    "# Unbalanced dataset verification"
   ]
  },
  {
   "cell_type": "code",
   "execution_count": 7,
   "id": "58c2dd1e47c9d91b",
   "metadata": {
    "collapsed": false,
    "ExecuteTime": {
     "end_time": "2023-11-23T08:14:32.568792800Z",
     "start_time": "2023-11-23T08:14:32.522994300Z"
    }
   },
   "outputs": [
    {
     "name": "stdout",
     "output_type": "stream",
     "text": [
      "Balanced Dataset\n"
     ]
    },
    {
     "data": {
      "text/plain": "   Number  Count\n0       0   5000\n1       1   5000\n2       2   5000\n3       3   5000\n4       4   5000\n5       5   5000\n6       6   5000\n7       7   5000\n8       8   5000\n9       9   5000",
      "text/html": "<div>\n<style scoped>\n    .dataframe tbody tr th:only-of-type {\n        vertical-align: middle;\n    }\n\n    .dataframe tbody tr th {\n        vertical-align: top;\n    }\n\n    .dataframe thead th {\n        text-align: right;\n    }\n</style>\n<table border=\"1\" class=\"dataframe\">\n  <thead>\n    <tr style=\"text-align: right;\">\n      <th></th>\n      <th>Number</th>\n      <th>Count</th>\n    </tr>\n  </thead>\n  <tbody>\n    <tr>\n      <th>0</th>\n      <td>0</td>\n      <td>5000</td>\n    </tr>\n    <tr>\n      <th>1</th>\n      <td>1</td>\n      <td>5000</td>\n    </tr>\n    <tr>\n      <th>2</th>\n      <td>2</td>\n      <td>5000</td>\n    </tr>\n    <tr>\n      <th>3</th>\n      <td>3</td>\n      <td>5000</td>\n    </tr>\n    <tr>\n      <th>4</th>\n      <td>4</td>\n      <td>5000</td>\n    </tr>\n    <tr>\n      <th>5</th>\n      <td>5</td>\n      <td>5000</td>\n    </tr>\n    <tr>\n      <th>6</th>\n      <td>6</td>\n      <td>5000</td>\n    </tr>\n    <tr>\n      <th>7</th>\n      <td>7</td>\n      <td>5000</td>\n    </tr>\n    <tr>\n      <th>8</th>\n      <td>8</td>\n      <td>5000</td>\n    </tr>\n    <tr>\n      <th>9</th>\n      <td>9</td>\n      <td>5000</td>\n    </tr>\n  </tbody>\n</table>\n</div>"
     },
     "execution_count": 7,
     "metadata": {},
     "output_type": "execute_result"
    }
   ],
   "source": [
    "import pandas as pd\n",
    "\n",
    "target_balance = sorted(Y)\n",
    "conteggio_numeri = {}\n",
    "\n",
    "for numero in target_balance:\n",
    "    if numero in conteggio_numeri:\n",
    "        conteggio_numeri[numero] += 1\n",
    "    else:\n",
    "        conteggio_numeri[numero] = 1\n",
    "\n",
    "df = pd.DataFrame(list(conteggio_numeri.items()), columns=[\"Number\", \"Count\"])\n",
    "\n",
    "count_alert = any(conteggio < 1000 for conteggio in conteggio_numeri.values())\n",
    "\n",
    "if count_alert:\n",
    "    print(\"WARNING! Unbalanced Dataset\")\n",
    "else:\n",
    "    print(\"Balanced Dataset\")\n",
    "    \n",
    "df.head(10)"
   ]
  },
  {
   "cell_type": "markdown",
   "id": "25f5d40ce886efb4",
   "metadata": {
    "collapsed": false
   },
   "source": [
    "# Logistic Regression"
   ]
  },
  {
   "cell_type": "markdown",
   "source": [
    "### Training Logistic Regression without Cross - Validation"
   ],
   "metadata": {
    "collapsed": false
   },
   "id": "92714a6489c5dede"
  },
  {
   "cell_type": "code",
   "execution_count": 8,
   "outputs": [
    {
     "name": "stdout",
     "output_type": "stream",
     "text": [
      "Logistic Regression Accuracy: 98.65 %\n",
      "Logistic Regression Precision: 98.66 %\n",
      "Logistic Regression Recall: 98.66 %\n",
      "Logistic Regression F1 Score: 98.66 %\n"
     ]
    }
   ],
   "source": [
    "start_time_LR = time.time()\n",
    "log_reg = LogisticRegression(max_iter=10000) #default value 100\n",
    "log_reg.fit(X_train, y_train)\n",
    "log_reg_predictions = log_reg.predict(X_test)\n",
    "log_reg_accuracy = accuracy_score(y_test, log_reg_predictions)\n",
    "log_reg_precision = precision_score(y_test, log_reg_predictions, average='macro')\n",
    "log_reg_recall = recall_score(y_test, log_reg_predictions, average='macro')\n",
    "log_reg_f1 = f1_score(y_test, log_reg_predictions, average='macro')\n",
    "end_time_LR = time.time()\n",
    "time_without_cv_LR = end_time_LR - start_time_LR\n",
    "\n",
    "print(f\"Logistic Regression Accuracy: {round(log_reg_accuracy*100, 2)} %\")\n",
    "print(f\"Logistic Regression Precision: {round(log_reg_precision*100, 2)} %\")\n",
    "print(f\"Logistic Regression Recall: {round(log_reg_recall*100, 2)} %\")\n",
    "print(f\"Logistic Regression F1 Score: {round(log_reg_f1*100, 2)} %\")\n",
    "\n",
    "results['Accuracy [%]'].append(round(log_reg_accuracy * 100, 2))\n",
    "results['F1 Score [%]'].append(round(log_reg_f1 * 100, 2))\n",
    "results['Recall [%]'].append(round(log_reg_recall * 100, 2))\n",
    "results['Precision [%]'].append(round(log_reg_precision * 100, 2))\n",
    "results['Time [s]'].append(round(time_without_cv_LR, 2))\n",
    "\n",
    "cpu_ram_info = cpu_usage(), ram_usage()\n",
    "results['CPU Usage [%]'].append(cpu_ram_info[0]['CPU Usage [%]'])\n",
    "results['CPU Maximum frequency [MHz]'].append(cpu_ram_info[0]['CPU Maximum frequency [MHz]'])\n",
    "results['RAM Usage [%]'].append(cpu_ram_info[1]['RAM Usage [%]'])\n",
    "results['RAM Used [GB]'].append(cpu_ram_info[1]['RAM Used [GB]'])"
   ],
   "metadata": {
    "collapsed": false,
    "ExecuteTime": {
     "end_time": "2023-11-23T08:14:36.502783300Z",
     "start_time": "2023-11-23T08:14:32.548742900Z"
    }
   },
   "id": "603ee71bf28932ec"
  },
  {
   "cell_type": "markdown",
   "source": [
    "### Training Logistic Regression with Cross - Validation"
   ],
   "metadata": {
    "collapsed": false
   },
   "id": "62c4ed30822daa32"
  },
  {
   "cell_type": "code",
   "execution_count": 9,
   "outputs": [
    {
     "name": "stdout",
     "output_type": "stream",
     "text": [
      "Logistic Regression Cross-Validation Accuracy: 98.79 %\n",
      "Logistic Regression Cross-Validation Precision: 98.79 %\n",
      "Logistic Regression Cross-Validation Recall: 98.79 %\n",
      "Logistic Regression Cross-Validation F1 Score: 98.79 %\n"
     ]
    }
   ],
   "source": [
    "start_time_LR_CV = time.time()\n",
    "log_reg_cv_scores = LogisticRegression(max_iter=10000)\n",
    "log_reg_cv_predictions = cross_val_predict(log_reg_cv_scores, X, Y, cv=5)\n",
    "log_reg_mean_accuracy = np.mean(cross_val_score(log_reg_cv_scores, X, Y, cv=5))\n",
    "log_reg_precision_cv = precision_score(Y, log_reg_cv_predictions, average='macro')\n",
    "log_reg_recall_cv = recall_score(Y, log_reg_cv_predictions, average='macro')\n",
    "log_reg_f1_cv = f1_score(Y, log_reg_cv_predictions, average='macro')\n",
    "end_time_LR_CV = time.time()\n",
    "time_with_cv_LR = end_time_LR_CV - start_time_LR_CV\n",
    "cpu_training_cv_LR = cpu_usage()\n",
    "ram_training_cv_LR = ram_usage()\n",
    "\n",
    "print(f\"Logistic Regression Cross-Validation Accuracy: {log_reg_mean_accuracy*100:.2f} %\")\n",
    "print(f\"Logistic Regression Cross-Validation Precision: {round(log_reg_precision_cv*100, 2)} %\")\n",
    "print(f\"Logistic Regression Cross-Validation Recall: {round(log_reg_recall_cv*100, 2)} %\")\n",
    "print(f\"Logistic Regression Cross-Validation F1 Score: {round(log_reg_f1_cv*100, 2)} %\")\n",
    "\n",
    "results_CV['Accuracy [%]'].append(round(log_reg_mean_accuracy * 100, 2))\n",
    "results_CV['F1 Score [%]'].append(round(log_reg_f1_cv * 100, 2))\n",
    "results_CV['Recall [%]'].append(round(log_reg_recall_cv * 100, 2))\n",
    "results_CV['Precision [%]'].append(round(log_reg_precision_cv * 100, 2))\n",
    "results_CV['Time [s]'].append(round(time_with_cv_LR, 2))\n",
    "\n",
    "cpu_ram_info_cv = cpu_usage(), ram_usage()\n",
    "results_CV['CPU Usage [%]'].append(cpu_ram_info_cv[0]['CPU Usage [%]'])\n",
    "results_CV['CPU Maximum frequency [MHz]'].append(cpu_ram_info_cv[0]['CPU Maximum frequency [MHz]'])\n",
    "results_CV['RAM Usage [%]'].append(cpu_ram_info_cv[1]['RAM Usage [%]'])\n",
    "results_CV['RAM Used [GB]'].append(cpu_ram_info_cv[1]['RAM Used [GB]'])"
   ],
   "metadata": {
    "collapsed": false,
    "ExecuteTime": {
     "end_time": "2023-11-23T08:17:53.758066800Z",
     "start_time": "2023-11-23T08:14:36.502783300Z"
    }
   },
   "id": "5f8c492e3638516c"
  },
  {
   "cell_type": "markdown",
   "id": "445a37e64f47915",
   "metadata": {
    "collapsed": false
   },
   "source": [
    "### Logistic Regression - Confusion Matrix"
   ]
  },
  {
   "cell_type": "code",
   "execution_count": 45,
   "id": "be6fc920cb29c4b",
   "metadata": {
    "collapsed": false,
    "ExecuteTime": {
     "end_time": "2023-11-23T13:18:32.106869600Z",
     "start_time": "2023-11-23T13:18:31.911683800Z"
    }
   },
   "outputs": [
    {
     "data": {
      "text/plain": "<Figure size 800x600 with 1 Axes>",
      "image/png": "[encoded data removed]"
     },
     "metadata": {},
     "output_type": "display_data"
    }
   ],
   "source": [
    "log_reg_cm = confusion_matrix(y_test, log_reg_predictions)\n",
    "plt.figure(figsize=(8, 6))\n",
    "sns.heatmap(log_reg_cm, annot=True, cmap='Blues', fmt='d', cbar=False)\n",
    "plt.title('Logistic Regression Confusion Matrix')\n",
    "plt.xlabel('Predicted Labels')\n",
    "plt.ylabel('True Labels')\n",
    "plt.savefig('confusion_matrix_LR.svg', format='svg')\n",
    "plt.show()"
   ]
  },
  {
   "cell_type": "markdown",
   "id": "17bbd20cfabc5423",
   "metadata": {
    "collapsed": false
   },
   "source": [
    "# Decision Tree"
   ]
  },
  {
   "cell_type": "markdown",
   "source": [
    "### Training Decision Tree without Cross - Validation"
   ],
   "metadata": {
    "collapsed": false
   },
   "id": "a2782727ed02dc8a"
  },
  {
   "cell_type": "code",
   "execution_count": 11,
   "id": "cd418d7d21f78537",
   "metadata": {
    "collapsed": false,
    "ExecuteTime": {
     "end_time": "2023-11-23T08:17:58.397876700Z",
     "start_time": "2023-11-23T08:17:54.001021200Z"
    }
   },
   "outputs": [
    {
     "name": "stdout",
     "output_type": "stream",
     "text": [
      "Logistic Regression Accuracy: 97.48 %\n",
      "Logistic Regression Precision: 97.5 %\n",
      "Logistic Regression Recall: 97.5 %\n",
      "Logistic Regression F1 Score: 97.5 %\n"
     ]
    }
   ],
   "source": [
    "best_params_DT = {'max_depth': 15, 'min_samples_leaf': 2, 'min_samples_split': 2}\n",
    "\n",
    "start_time_DT = time.time()\n",
    "decision_tree = DecisionTreeClassifier(**best_params_DT)\n",
    "decision_tree.fit(X_train, y_train)\n",
    "DT_predictions = decision_tree.predict(X_test)\n",
    "DT_accuracy = accuracy_score(y_test, DT_predictions)\n",
    "DT_precision = precision_score(y_test, DT_predictions, average='macro')\n",
    "DT_recall = recall_score(y_test, DT_predictions, average='macro')\n",
    "DT_f1 = f1_score(y_test, DT_predictions, average='macro')\n",
    "end_time_DT = time.time()\n",
    "time_without_cv_DT = end_time_DT - start_time_DT\n",
    "cpu_training = cpu_usage()\n",
    "ram_training = ram_usage()\n",
    "print(f\"Logistic Regression Accuracy: {round(DT_accuracy*100, 2)} %\")\n",
    "print(f\"Logistic Regression Precision: {round(DT_precision*100, 2)} %\")\n",
    "print(f\"Logistic Regression Recall: {round(DT_recall*100, 2)} %\")\n",
    "print(f\"Logistic Regression F1 Score: {round(DT_f1*100, 2)} %\")\n",
    "\n",
    "results['Accuracy [%]'].append(round(DT_accuracy * 100, 2))\n",
    "results['F1 Score [%]'].append(round(DT_f1 * 100, 2))\n",
    "results['Recall [%]'].append(round(DT_recall * 100, 2))\n",
    "results['Precision [%]'].append(round(DT_precision * 100, 2))\n",
    "results['Time [s]'].append(round(time_without_cv_DT, 2))\n",
    "\n",
    "cpu_ram_info = cpu_usage(), ram_usage()\n",
    "results['CPU Usage [%]'].append(cpu_ram_info[0]['CPU Usage [%]'])\n",
    "results['CPU Maximum frequency [MHz]'].append(cpu_ram_info[0]['CPU Maximum frequency [MHz]'])\n",
    "results['RAM Usage [%]'].append(cpu_ram_info[1]['RAM Usage [%]'])\n",
    "results['RAM Used [GB]'].append(cpu_ram_info[1]['RAM Used [GB]'])"
   ]
  },
  {
   "cell_type": "markdown",
   "source": [
    "### Training Decision Tree with Cross - Validation"
   ],
   "metadata": {
    "collapsed": false
   },
   "id": "9ae8fb5bd37b4223"
  },
  {
   "cell_type": "code",
   "execution_count": 12,
   "outputs": [
    {
     "name": "stdout",
     "output_type": "stream",
     "text": [
      "Decision Tree Cross-Validation Accuracy: 97.78 %\n",
      "Decision Tree Cross-Validation Precision: 97.75 %\n",
      "Decision Tree Cross-Validation Recall: 97.74 %\n",
      "Decision Tree Cross-Validation F1 Score: 97.74 %\n"
     ]
    }
   ],
   "source": [
    "start_time_DT_CV = time.time()\n",
    "DT_cv_scores = DecisionTreeClassifier(**best_params_DT)\n",
    "DT_cv_predictions = cross_val_predict(DT_cv_scores, X, Y, cv=5)\n",
    "DT_cv_scores = cross_val_score(DT_cv_scores, X, Y, cv=5)\n",
    "DT_mean_accuracy = np.mean(DT_cv_scores)\n",
    "DT_precision_cv = precision_score(Y, DT_cv_predictions, average='macro')\n",
    "DT_recall_cv = recall_score(Y, DT_cv_predictions, average='macro')\n",
    "DT_f1_cv = f1_score(Y, DT_cv_predictions, average='macro')\n",
    "end_time_DT_CV = time.time()\n",
    "time_with_cv_DT = end_time_DT_CV - start_time_DT_CV\n",
    "cpu_training_DT = cpu_usage()\n",
    "ram_training_DT = ram_usage()\n",
    "\n",
    "print(f\"Decision Tree Cross-Validation Accuracy: {DT_mean_accuracy * 100:.2f} %\")\n",
    "print(f\"Decision Tree Cross-Validation Precision: {round(DT_precision_cv * 100, 2)} %\")\n",
    "print(f\"Decision Tree Cross-Validation Recall: {round(DT_recall_cv * 100, 2)} %\")\n",
    "print(f\"Decision Tree Cross-Validation F1 Score: {round(DT_f1_cv * 100, 2)} %\")\n",
    "\n",
    "results_CV['Accuracy [%]'].append(round(DT_mean_accuracy * 100, 2))\n",
    "results_CV['F1 Score [%]'].append(round(DT_f1_cv * 100, 2))\n",
    "results_CV['Recall [%]'].append(round(DT_recall_cv * 100, 2))\n",
    "results_CV['Precision [%]'].append(round(DT_precision_cv * 100, 2))\n",
    "results_CV['Time [s]'].append(round(time_with_cv_DT, 2))\n",
    "\n",
    "cpu_ram_info_cv = cpu_usage(), ram_usage()\n",
    "results_CV['CPU Usage [%]'].append(cpu_ram_info_cv[0]['CPU Usage [%]'])\n",
    "results_CV['CPU Maximum frequency [MHz]'].append(cpu_ram_info_cv[0]['CPU Maximum frequency [MHz]'])\n",
    "results_CV['RAM Usage [%]'].append(cpu_ram_info_cv[1]['RAM Usage [%]'])\n",
    "results_CV['RAM Used [GB]'].append(cpu_ram_info_cv[1]['RAM Used [GB]'])"
   ],
   "metadata": {
    "collapsed": false,
    "ExecuteTime": {
     "end_time": "2023-11-23T08:18:41.979946800Z",
     "start_time": "2023-11-23T08:17:58.397876700Z"
    }
   },
   "id": "41496b60ff8c9246"
  },
  {
   "cell_type": "markdown",
   "id": "9cd26559b05feda1",
   "metadata": {
    "collapsed": false
   },
   "source": [
    "### Decision Tree - Confusion Matrix"
   ]
  },
  {
   "cell_type": "code",
   "execution_count": 46,
   "id": "6f500d4805322607",
   "metadata": {
    "collapsed": false,
    "ExecuteTime": {
     "end_time": "2023-11-23T13:19:13.810432700Z",
     "start_time": "2023-11-23T13:19:13.611378400Z"
    }
   },
   "outputs": [
    {
     "data": {
      "text/plain": "<Figure size 800x600 with 1 Axes>",
      "image/png": "[encoded data removed]"
     },
     "metadata": {},
     "output_type": "display_data"
    }
   ],
   "source": [
    "DT_cm = confusion_matrix(y_test, DT_predictions)\n",
    "plt.figure(figsize=(8, 6))\n",
    "sns.heatmap(DT_cm, annot=True, cmap='Greens', fmt='d', cbar=False)\n",
    "plt.title('Decision Tree Confusion Matrix')\n",
    "plt.xlabel('Predicted Labels')\n",
    "plt.ylabel('True Labels')\n",
    "plt.savefig('confusion_matrix_DT.svg', format='svg')\n",
    "plt.show()"
   ]
  },
  {
   "cell_type": "markdown",
   "id": "cf518a2e040a2468",
   "metadata": {
    "collapsed": false
   },
   "source": [
    "# Random Forest"
   ]
  },
  {
   "cell_type": "markdown",
   "source": [
    "### Training Random Forest without Cross - Validation"
   ],
   "metadata": {
    "collapsed": false
   },
   "id": "277b55d8eb1b7f02"
  },
  {
   "cell_type": "code",
   "execution_count": 14,
   "id": "81986eb03ca4c9aa",
   "metadata": {
    "collapsed": false,
    "ExecuteTime": {
     "end_time": "2023-11-23T08:19:22.847781800Z",
     "start_time": "2023-11-23T08:18:42.202739200Z"
    }
   },
   "outputs": [
    {
     "name": "stdout",
     "output_type": "stream",
     "text": [
      "Logistic Regression Accuracy: 98.61 %\n",
      "Logistic Regression Precision: 98.62 %\n",
      "Logistic Regression Recall: 98.62 %\n",
      "Logistic Regression F1 Score: 98.62 %\n"
     ]
    }
   ],
   "source": [
    "best_params_RF = {'max_features': 'log2', 'min_samples_split': 10, 'n_estimators': 200}\n",
    "\n",
    "start_time_RF = time.time()\n",
    "random_forest = RandomForestClassifier(**best_params_RF)\n",
    "random_forest.fit(X_train, y_train)\n",
    "RF_predictions = random_forest.predict(X_test)\n",
    "RF_accuracy = accuracy_score(y_test, RF_predictions)\n",
    "RF_precision = precision_score(y_test, RF_predictions, average='macro')\n",
    "RF_recall = recall_score(y_test, RF_predictions, average='macro')\n",
    "RF_f1 = f1_score(y_test, RF_predictions, average='macro')\n",
    "end_time_RF = time.time()\n",
    "time_without_cv_RF = end_time_RF - start_time_RF\n",
    "cpu_training = cpu_usage()\n",
    "ram_training = ram_usage()\n",
    "print(f\"Logistic Regression Accuracy: {round(RF_accuracy*100, 2)} %\")\n",
    "print(f\"Logistic Regression Precision: {round(RF_precision*100, 2)} %\")\n",
    "print(f\"Logistic Regression Recall: {round(RF_recall*100, 2)} %\")\n",
    "print(f\"Logistic Regression F1 Score: {round(RF_f1*100, 2)} %\")\n",
    "\n",
    "results['Accuracy [%]'].append(round(RF_accuracy * 100, 2))\n",
    "results['F1 Score [%]'].append(round(RF_f1 * 100, 2))\n",
    "results['Recall [%]'].append(round(RF_recall * 100, 2))\n",
    "results['Precision [%]'].append(round(RF_precision * 100, 2))\n",
    "results['Time [s]'].append(round(time_without_cv_RF, 2))\n",
    "\n",
    "cpu_ram_info = cpu_usage(), ram_usage()\n",
    "results['CPU Usage [%]'].append(cpu_ram_info[0]['CPU Usage [%]'])\n",
    "results['CPU Maximum frequency [MHz]'].append(cpu_ram_info[0]['CPU Maximum frequency [MHz]'])\n",
    "results['RAM Usage [%]'].append(cpu_ram_info[1]['RAM Usage [%]'])\n",
    "results['RAM Used [GB]'].append(cpu_ram_info[1]['RAM Used [GB]'])"
   ]
  },
  {
   "cell_type": "markdown",
   "source": [
    "### Training Random Forest with Cross - Validation"
   ],
   "metadata": {
    "collapsed": false
   },
   "id": "dd9cf6122487a53c"
  },
  {
   "cell_type": "code",
   "execution_count": 15,
   "outputs": [
    {
     "name": "stdout",
     "output_type": "stream",
     "text": [
      "Random Forest Cross-Validation Accuracy: 98.78 %\n",
      "Random Forest Cross-Validation Precision: 98.79 %\n",
      "Random Forest Cross-Validation Recall: 98.79 %\n",
      "Random Forest Cross-Validation F1 Score: 98.79 %\n"
     ]
    }
   ],
   "source": [
    "start_time_RF_CV = time.time()\n",
    "RF_cv_scores = RandomForestClassifier(**best_params_RF)\n",
    "RF_cv_predictions = cross_val_predict(RF_cv_scores, X, Y, cv=5)\n",
    "RF_cv_scores = cross_val_score(RF_cv_scores, X, Y, cv=5)\n",
    "RF_mean_accuracy = np.mean(RF_cv_scores)\n",
    "RF_precision_cv = precision_score(Y, RF_cv_predictions, average='macro')\n",
    "RF_recall_cv = recall_score(Y, RF_cv_predictions, average='macro')\n",
    "RF_f1_cv = f1_score(Y, RF_cv_predictions, average='macro')\n",
    "end_time_RF_CV = time.time()\n",
    "time_with_cv_RF = end_time_RF_CV - start_time_RF_CV\n",
    "cpu_training_RF = cpu_usage()\n",
    "ram_training_RF = ram_usage()\n",
    "\n",
    "print(f\"Random Forest Cross-Validation Accuracy: {RF_mean_accuracy * 100:.2f} %\")\n",
    "print(f\"Random Forest Cross-Validation Precision: {round(RF_precision_cv * 100, 2)} %\")\n",
    "print(f\"Random Forest Cross-Validation Recall: {round(RF_recall_cv * 100, 2)} %\")\n",
    "print(f\"Random Forest Cross-Validation F1 Score: {round(RF_f1_cv * 100, 2)} %\")\n",
    "\n",
    "results_CV['Accuracy [%]'].append(round(RF_mean_accuracy * 100, 2))\n",
    "results_CV['F1 Score [%]'].append(round(RF_f1_cv * 100, 2))\n",
    "results_CV['Recall [%]'].append(round(RF_recall_cv * 100, 2))\n",
    "results_CV['Precision [%]'].append(round(RF_precision_cv * 100, 2))\n",
    "results_CV['Time [s]'].append(round(time_with_cv_RF, 2))\n",
    "\n",
    "cpu_ram_info_cv = cpu_usage(), ram_usage()\n",
    "results_CV['CPU Usage [%]'].append(cpu_ram_info_cv[0]['CPU Usage [%]'])\n",
    "results_CV['CPU Maximum frequency [MHz]'].append(cpu_ram_info_cv[0]['CPU Maximum frequency [MHz]'])\n",
    "results_CV['RAM Usage [%]'].append(cpu_ram_info_cv[1]['RAM Usage [%]'])\n",
    "results_CV['RAM Used [GB]'].append(cpu_ram_info_cv[1]['RAM Used [GB]'])"
   ],
   "metadata": {
    "collapsed": false,
    "ExecuteTime": {
     "end_time": "2023-11-23T08:26:24.961560600Z",
     "start_time": "2023-11-23T08:19:22.847781800Z"
    }
   },
   "id": "2e6856ea0c69855"
  },
  {
   "cell_type": "markdown",
   "id": "fd313cbd37ed54a6",
   "metadata": {
    "collapsed": false
   },
   "source": [
    "### Random Forest - Confusion Matrix"
   ]
  },
  {
   "cell_type": "code",
   "execution_count": 47,
   "id": "a1dcd55d0d6e876a",
   "metadata": {
    "collapsed": false,
    "ExecuteTime": {
     "end_time": "2023-11-23T13:19:19.656545400Z",
     "start_time": "2023-11-23T13:19:19.416364100Z"
    }
   },
   "outputs": [
    {
     "data": {
      "text/plain": "<Figure size 800x600 with 1 Axes>",
      "image/png": "[encoded data removed]"
     },
     "metadata": {},
     "output_type": "display_data"
    }
   ],
   "source": [
    "RF_cm = confusion_matrix(y_test, RF_predictions)\n",
    "plt.figure(figsize=(8, 6))\n",
    "sns.heatmap(RF_cm, annot=True, cmap='Reds', fmt='d', cbar=False)\n",
    "plt.title('Random Forest Confusion Matrix')\n",
    "plt.xlabel('Predicted Labels')\n",
    "plt.ylabel('True Labels')\n",
    "plt.savefig('confusion_matrix_RF.svg', format='svg')\n",
    "plt.show()"
   ]
  },
  {
   "cell_type": "markdown",
   "id": "54421e817bf2b8ed",
   "metadata": {
    "collapsed": false
   },
   "source": [
    "# Support Vector Machine"
   ]
  },
  {
   "cell_type": "markdown",
   "source": [
    "### Training SVM without Cross - Validation"
   ],
   "metadata": {
    "collapsed": false
   },
   "id": "815a2bb06c3539c4"
  },
  {
   "cell_type": "code",
   "execution_count": 17,
   "id": "c4f0d214c1dad60",
   "metadata": {
    "collapsed": false,
    "ExecuteTime": {
     "end_time": "2023-11-23T08:26:30.379673Z",
     "start_time": "2023-11-23T08:26:25.391826400Z"
    }
   },
   "outputs": [
    {
     "name": "stdout",
     "output_type": "stream",
     "text": [
      "Logistic Regression Accuracy: 98.69 %\n",
      "Logistic Regression Precision: 98.7 %\n",
      "Logistic Regression Recall: 98.7 %\n",
      "Logistic Regression F1 Score: 98.7 %\n"
     ]
    }
   ],
   "source": [
    "best_params_SVM = {'C': 10, 'gamma': 0.001, 'kernel': 'rbf'}\n",
    "\n",
    "start_time_SVM = time.time()\n",
    "SVM = SVC(**best_params_SVM)\n",
    "SVM.fit(X_train, y_train)\n",
    "SVM_predictions = SVM.predict(X_test)\n",
    "SVM_accuracy = accuracy_score(y_test, SVM_predictions)\n",
    "SVM_precision = precision_score(y_test, SVM_predictions, average='macro')\n",
    "SVM_recall = recall_score(y_test, SVM_predictions, average='macro')\n",
    "SVM_f1 = f1_score(y_test, SVM_predictions, average='macro')\n",
    "end_time_SVM = time.time()\n",
    "time_without_cv_SVM = end_time_SVM - start_time_SVM\n",
    "cpu_training = cpu_usage()\n",
    "ram_training = ram_usage()\n",
    "print(f\"Logistic Regression Accuracy: {round(SVM_accuracy*100, 2)} %\")\n",
    "print(f\"Logistic Regression Precision: {round(SVM_precision*100, 2)} %\")\n",
    "print(f\"Logistic Regression Recall: {round(SVM_recall*100, 2)} %\")\n",
    "print(f\"Logistic Regression F1 Score: {round(SVM_f1*100, 2)} %\")\n",
    "\n",
    "results['Accuracy [%]'].append(round(SVM_accuracy * 100, 2))\n",
    "results['F1 Score [%]'].append(round(SVM_f1 * 100, 2))\n",
    "results['Recall [%]'].append(round(SVM_recall * 100, 2))\n",
    "results['Precision [%]'].append(round(SVM_precision * 100, 2))\n",
    "results['Time [s]'].append(round(time_without_cv_SVM, 2))\n",
    "\n",
    "cpu_ram_info = cpu_usage(), ram_usage()\n",
    "results['CPU Usage [%]'].append(cpu_ram_info[0]['CPU Usage [%]'])\n",
    "results['CPU Maximum frequency [MHz]'].append(cpu_ram_info[0]['CPU Maximum frequency [MHz]'])\n",
    "results['RAM Usage [%]'].append(cpu_ram_info[1]['RAM Usage [%]'])\n",
    "results['RAM Used [GB]'].append(cpu_ram_info[1]['RAM Used [GB]'])"
   ]
  },
  {
   "cell_type": "markdown",
   "source": [
    "### Training SVM with Cross - Validation"
   ],
   "metadata": {
    "collapsed": false
   },
   "id": "7e30a6e151d03640"
  },
  {
   "cell_type": "code",
   "execution_count": 18,
   "outputs": [
    {
     "name": "stdout",
     "output_type": "stream",
     "text": [
      "SVM Cross-Validation Accuracy: 98.86 %\n",
      "SVM Cross-Validation Precision: 98.86 %\n",
      "SVM Cross-Validation Recall: 98.86 %\n",
      "SVM F1 Cross-Validation Score: 98.86 %\n"
     ]
    }
   ],
   "source": [
    "start_time_SVM_CV = time.time()\n",
    "SVM_cv_scores = SVC(**best_params_SVM)\n",
    "SVM_cv_predictions = cross_val_predict(SVM_cv_scores, X, Y, cv=5)\n",
    "SVM_cv_scores = cross_val_score(SVM_cv_scores, X, Y, cv=5)\n",
    "SVM_mean_accuracy = np.mean(SVM_cv_scores)\n",
    "SVM_precision_cv = precision_score(Y, SVM_cv_predictions, average='macro')\n",
    "SVM_recall_cv = recall_score(Y, SVM_cv_predictions, average='macro')\n",
    "SVM_f1_cv = f1_score(Y, SVM_cv_predictions, average='macro')\n",
    "end_time_SVM_CV = time.time()\n",
    "time_with_cv_SVM = end_time_SVM_CV - start_time_SVM_CV\n",
    "cpu_training_SVM = cpu_usage()\n",
    "ram_training_SVM = ram_usage()\n",
    "\n",
    "print(f\"SVM Cross-Validation Accuracy: {SVM_mean_accuracy * 100:.2f} %\")\n",
    "print(f\"SVM Cross-Validation Precision: {round(SVM_precision_cv * 100, 2)} %\")\n",
    "print(f\"SVM Cross-Validation Recall: {round(SVM_recall_cv * 100, 2)} %\")\n",
    "print(f\"SVM F1 Cross-Validation Score: {round(SVM_f1_cv * 100, 2)} %\")\n",
    "\n",
    "results_CV['Accuracy [%]'].append(round(SVM_mean_accuracy * 100, 2))\n",
    "results_CV['F1 Score [%]'].append(round(SVM_f1_cv * 100, 2))\n",
    "results_CV['Recall [%]'].append(round(SVM_recall_cv * 100, 2))\n",
    "results_CV['Precision [%]'].append(round(SVM_precision_cv * 100, 2))\n",
    "results_CV['Time [s]'].append(round(time_with_cv_SVM, 2))\n",
    "\n",
    "cpu_ram_info_cv = cpu_usage(), ram_usage()\n",
    "results_CV['CPU Usage [%]'].append(cpu_ram_info_cv[0]['CPU Usage [%]'])\n",
    "results_CV['CPU Maximum frequency [MHz]'].append(cpu_ram_info_cv[0]['CPU Maximum frequency [MHz]'])\n",
    "results_CV['RAM Usage [%]'].append(cpu_ram_info_cv[1]['RAM Usage [%]'])\n",
    "results_CV['RAM Used [GB]'].append(cpu_ram_info_cv[1]['RAM Used [GB]'])"
   ],
   "metadata": {
    "collapsed": false,
    "ExecuteTime": {
     "end_time": "2023-11-23T08:27:09.701741Z",
     "start_time": "2023-11-23T08:26:30.382673Z"
    }
   },
   "id": "be34dec25b6e4218"
  },
  {
   "cell_type": "markdown",
   "id": "8888f487c16c85b",
   "metadata": {
    "collapsed": false
   },
   "source": [
    "### Support Vector Machine - Confusion Matrix"
   ]
  },
  {
   "cell_type": "code",
   "execution_count": 48,
   "id": "e92d68d285b57bb2",
   "metadata": {
    "collapsed": false,
    "ExecuteTime": {
     "end_time": "2023-11-23T13:19:25.259568Z",
     "start_time": "2023-11-23T13:19:25.059849100Z"
    }
   },
   "outputs": [
    {
     "data": {
      "text/plain": "<Figure size 800x600 with 1 Axes>",
      "image/png": "[encoded data removed]"
     },
     "metadata": {},
     "output_type": "display_data"
    }
   ],
   "source": [
    "SVM_cm = confusion_matrix(y_test, SVM_predictions)\n",
    "plt.figure(figsize=(8, 6))\n",
    "sns.heatmap(SVM_cm, annot=True, cmap='Purples', fmt='d', cbar=False)\n",
    "plt.title('SVM Confusion Matrix')\n",
    "plt.xlabel('Predicted Labels')\n",
    "plt.ylabel('True Labels')\n",
    "plt.savefig('confusion_matrix_SVM.svg', format='svg')\n",
    "plt.show()"
   ]
  },
  {
   "cell_type": "markdown",
   "id": "78d6dcb53e3b7ca2",
   "metadata": {
    "collapsed": false
   },
   "source": [
    "# K-Nearest Neighbors"
   ]
  },
  {
   "cell_type": "markdown",
   "source": [
    "### Training KNN without Cross - Validation"
   ],
   "metadata": {
    "collapsed": false
   },
   "id": "e16b75333fbb66f1"
  },
  {
   "cell_type": "code",
   "execution_count": 20,
   "id": "94f6460f58ec5c1e",
   "metadata": {
    "collapsed": false,
    "ExecuteTime": {
     "end_time": "2023-11-23T08:27:12.711009Z",
     "start_time": "2023-11-23T08:27:10.088385200Z"
    }
   },
   "outputs": [
    {
     "name": "stdout",
     "output_type": "stream",
     "text": [
      "Logistic Regression Accuracy: 98.58 %\n",
      "Logistic Regression Precision: 98.59 %\n",
      "Logistic Regression Recall: 98.59 %\n",
      "Logistic Regression F1 Score: 98.59 %\n"
     ]
    }
   ],
   "source": [
    "best_params_KNN = {'metric': 'manhattan', 'n_neighbors': 9, 'weights': 'distance'}\n",
    "\n",
    "start_time_KNN = time.time()\n",
    "KNN = KNeighborsClassifier(**best_params_KNN)\n",
    "KNN.fit(X_train, y_train)\n",
    "KNN_predictions = KNN.predict(X_test)\n",
    "KNN_accuracy = accuracy_score(y_test, KNN_predictions)\n",
    "KNN_precision = precision_score(y_test, KNN_predictions, average='macro')\n",
    "KNN_recall = recall_score(y_test, KNN_predictions, average='macro')\n",
    "KNN_f1 = f1_score(y_test, KNN_predictions, average='macro')\n",
    "end_time_KNN = time.time()\n",
    "time_without_cv_KNN = end_time_KNN - start_time_KNN\n",
    "cpu_training = cpu_usage()\n",
    "ram_training = ram_usage()\n",
    "print(f\"Logistic Regression Accuracy: {round(KNN_accuracy*100, 2)} %\")\n",
    "print(f\"Logistic Regression Precision: {round(KNN_precision*100, 2)} %\")\n",
    "print(f\"Logistic Regression Recall: {round(KNN_recall*100, 2)} %\")\n",
    "print(f\"Logistic Regression F1 Score: {round(KNN_f1*100, 2)} %\")\n",
    "\n",
    "results['Accuracy [%]'].append(round(KNN_accuracy * 100, 2))\n",
    "results['F1 Score [%]'].append(round(KNN_f1 * 100, 2))\n",
    "results['Recall [%]'].append(round(KNN_recall * 100, 2))\n",
    "results['Precision [%]'].append(round(KNN_precision * 100, 2))\n",
    "results['Time [s]'].append(round(time_without_cv_KNN, 2))\n",
    "\n",
    "cpu_ram_info = cpu_usage(), ram_usage()\n",
    "results['CPU Usage [%]'].append(cpu_ram_info[0]['CPU Usage [%]'])\n",
    "results['CPU Maximum frequency [MHz]'].append(cpu_ram_info[0]['CPU Maximum frequency [MHz]'])\n",
    "results['RAM Usage [%]'].append(cpu_ram_info[1]['RAM Usage [%]'])\n",
    "results['RAM Used [GB]'].append(cpu_ram_info[1]['RAM Used [GB]'])"
   ]
  },
  {
   "cell_type": "markdown",
   "source": [
    "### Training KNN with Cross - Validation"
   ],
   "metadata": {
    "collapsed": false
   },
   "id": "cfa89fda616af4ae"
  },
  {
   "cell_type": "code",
   "execution_count": 21,
   "outputs": [
    {
     "name": "stdout",
     "output_type": "stream",
     "text": [
      "KNN Cross-Validation Accuracy: 98.80 %\n",
      "KNN Cross-Validation Precision: 98.8 %\n",
      "KNN Cross-Validation Recall: 98.8 %\n",
      "KNN Cross-Validation F1 Score: 98.8 %\n"
     ]
    }
   ],
   "source": [
    "start_time_KNN_CV = time.time()\n",
    "KNN_cv_scores = KNeighborsClassifier(**best_params_KNN)\n",
    "KNN_cv_predictions = cross_val_predict(KNN_cv_scores, X, Y, cv=5)\n",
    "KNN_cv_scores = cross_val_score(KNN_cv_scores, X, Y, cv=5)\n",
    "KNN_mean_accuracy = np.mean(KNN_cv_scores)\n",
    "KNN_precision_cv = precision_score(Y, KNN_cv_predictions, average='macro')\n",
    "KNN_recall_cv = recall_score(Y, KNN_cv_predictions, average='macro')\n",
    "KNN_f1_cv = f1_score(Y, KNN_cv_predictions, average='macro')\n",
    "end_time_KNN_CV = time.time()\n",
    "time_with_cv_KNN = end_time_KNN_CV - start_time_KNN_CV\n",
    "cpu_training_KNN = cpu_usage()\n",
    "ram_training_KNN = ram_usage()\n",
    "\n",
    "print(f\"KNN Cross-Validation Accuracy: {KNN_mean_accuracy * 100:.2f} %\")\n",
    "print(f\"KNN Cross-Validation Precision: {round(KNN_precision_cv * 100, 2)} %\")\n",
    "print(f\"KNN Cross-Validation Recall: {round(KNN_recall_cv * 100, 2)} %\")\n",
    "print(f\"KNN Cross-Validation F1 Score: {round(KNN_f1_cv * 100, 2)} %\")\n",
    "\n",
    "results_CV['Accuracy [%]'].append(round(KNN_mean_accuracy * 100, 2))\n",
    "results_CV['F1 Score [%]'].append(round(KNN_f1_cv * 100, 2))\n",
    "results_CV['Recall [%]'].append(round(KNN_recall_cv * 100, 2))\n",
    "results_CV['Precision [%]'].append(round(KNN_precision_cv * 100, 2))\n",
    "results_CV['Time [s]'].append(round(time_with_cv_KNN, 2))\n",
    "\n",
    "cpu_ram_info_cv = cpu_usage(), ram_usage()\n",
    "results_CV['CPU Usage [%]'].append(cpu_ram_info_cv[0]['CPU Usage [%]'])\n",
    "results_CV['CPU Maximum frequency [MHz]'].append(cpu_ram_info_cv[0]['CPU Maximum frequency [MHz]'])\n",
    "results_CV['RAM Usage [%]'].append(cpu_ram_info_cv[1]['RAM Usage [%]'])\n",
    "results_CV['RAM Used [GB]'].append(cpu_ram_info_cv[1]['RAM Used [GB]'])"
   ],
   "metadata": {
    "collapsed": false,
    "ExecuteTime": {
     "end_time": "2023-11-23T08:27:35.443971500Z",
     "start_time": "2023-11-23T08:27:12.711009Z"
    }
   },
   "id": "98cfc288ee3958bc"
  },
  {
   "cell_type": "markdown",
   "id": "f7622ba9632757d2",
   "metadata": {
    "collapsed": false
   },
   "source": [
    "### K-Nearest Neighbors - Confusion Matrix"
   ]
  },
  {
   "cell_type": "code",
   "execution_count": 49,
   "id": "6716947fe8ba9f6d",
   "metadata": {
    "collapsed": false,
    "ExecuteTime": {
     "end_time": "2023-11-23T13:19:31.085307500Z",
     "start_time": "2023-11-23T13:19:30.888440900Z"
    }
   },
   "outputs": [
    {
     "data": {
      "text/plain": "<Figure size 800x600 with 1 Axes>",
      "image/png": "[encoded data removed]"
     },
     "metadata": {},
     "output_type": "display_data"
    }
   ],
   "source": [
    "KNN_cm = confusion_matrix(y_test, KNN_predictions)\n",
    "plt.figure(figsize=(8, 6))\n",
    "sns.heatmap(KNN_cm, annot=True, cmap='Oranges', fmt='d', cbar=False)\n",
    "plt.title('K-Nearest Neighbors Confusion Matrix')\n",
    "plt.xlabel('Predicted Labels')\n",
    "plt.ylabel('True Labels')\n",
    "plt.savefig('confusion_matrix_KNN.svg', format='svg')\n",
    "plt.show()"
   ]
  },
  {
   "cell_type": "markdown",
   "id": "ddb4d2d161499e07",
   "metadata": {
    "collapsed": false
   },
   "source": [
    "# XGBoost"
   ]
  },
  {
   "cell_type": "markdown",
   "source": [
    "### Training XGB without Cross - Validation"
   ],
   "metadata": {
    "collapsed": false
   },
   "id": "947701c490995230"
  },
  {
   "cell_type": "code",
   "execution_count": 23,
   "id": "75bd585e378be879",
   "metadata": {
    "collapsed": false,
    "ExecuteTime": {
     "end_time": "2023-11-23T08:27:41.685496400Z",
     "start_time": "2023-11-23T08:27:35.858413800Z"
    }
   },
   "outputs": [
    {
     "name": "stdout",
     "output_type": "stream",
     "text": [
      "Logistic Regression Accuracy: 98.57 %\n",
      "Logistic Regression Precision: 98.58 %\n",
      "Logistic Regression Recall: 98.58 %\n",
      "Logistic Regression F1 Score: 98.58 %\n"
     ]
    }
   ],
   "source": [
    "best_params_XGB = {'learning_rate': 0.1, 'max_depth': 3, 'n_estimators': 100}\n",
    "\n",
    "start_time_XGB = time.time()\n",
    "XGB = XGBClassifier(**best_params_XGB)\n",
    "XGB.fit(X_train, y_train)\n",
    "XGB_predictions = XGB.predict(X_test)\n",
    "XGB_accuracy = accuracy_score(y_test, XGB_predictions)\n",
    "XGB_precision = precision_score(y_test, XGB_predictions, average='macro')\n",
    "XGB_recall = recall_score(y_test, XGB_predictions, average='macro')\n",
    "XGB_f1 = f1_score(y_test, XGB_predictions, average='macro')\n",
    "end_time_XGB = time.time()\n",
    "time_without_cv_XGB = end_time_XGB - start_time_XGB\n",
    "cpu_training = cpu_usage()\n",
    "ram_training = ram_usage()\n",
    "print(f\"Logistic Regression Accuracy: {round(XGB_accuracy*100, 2)} %\")\n",
    "print(f\"Logistic Regression Precision: {round(XGB_precision*100, 2)} %\")\n",
    "print(f\"Logistic Regression Recall: {round(XGB_recall*100, 2)} %\")\n",
    "print(f\"Logistic Regression F1 Score: {round(XGB_f1*100, 2)} %\")\n",
    "\n",
    "results['Accuracy [%]'].append(round(XGB_accuracy * 100, 2))\n",
    "results['F1 Score [%]'].append(round(XGB_f1 * 100, 2))\n",
    "results['Recall [%]'].append(round(XGB_recall * 100, 2))\n",
    "results['Precision [%]'].append(round(XGB_precision * 100, 2))\n",
    "results['Time [s]'].append(round(time_without_cv_XGB, 2))\n",
    "\n",
    "cpu_ram_info = cpu_usage(), ram_usage()\n",
    "results['CPU Usage [%]'].append(cpu_ram_info[0]['CPU Usage [%]'])\n",
    "results['CPU Maximum frequency [MHz]'].append(cpu_ram_info[0]['CPU Maximum frequency [MHz]'])\n",
    "results['RAM Usage [%]'].append(cpu_ram_info[1]['RAM Usage [%]'])\n",
    "results['RAM Used [GB]'].append(cpu_ram_info[1]['RAM Used [GB]'])"
   ]
  },
  {
   "cell_type": "markdown",
   "source": [
    "### Training XGB with Cross - Validation"
   ],
   "metadata": {
    "collapsed": false
   },
   "id": "f28dbdb312836d5"
  },
  {
   "cell_type": "code",
   "execution_count": 24,
   "outputs": [
    {
     "name": "stdout",
     "output_type": "stream",
     "text": [
      "XGBoost Cross-Validation Accuracy: 98.70 %\n",
      "XGBoost Cross-Validation Precision: 98.7 %\n",
      "XGBoost Cross-Validation Recall: 98.7 %\n",
      "XGBoost Cross-Validation F1 Score: 98.7 %\n"
     ]
    }
   ],
   "source": [
    "start_time_XGB_CV = time.time()\n",
    "XGB_cv_scores = XGBClassifier(**best_params_XGB)\n",
    "XGB_cv_predictions = cross_val_predict(XGB_cv_scores, X, Y, cv=5)\n",
    "XGB_cv_scores = cross_val_score(XGB_cv_scores, X, Y, cv=5)\n",
    "XGB_mean_accuracy = np.mean(XGB_cv_scores)\n",
    "XGB_precision_cv = precision_score(Y, XGB_cv_predictions, average='macro')\n",
    "XGB_recall_cv = recall_score(Y, XGB_cv_predictions, average='macro')\n",
    "XGB_f1_cv = f1_score(Y, XGB_cv_predictions, average='macro')\n",
    "end_time_XGB_CV = time.time()\n",
    "time_with_cv_XGB = end_time_XGB_CV - start_time_XGB_CV\n",
    "cpu_training_XGB = cpu_usage()\n",
    "ram_training_XGB = ram_usage()\n",
    "\n",
    "print(f\"XGBoost Cross-Validation Accuracy: {XGB_mean_accuracy * 100:.2f} %\")\n",
    "print(f\"XGBoost Cross-Validation Precision: {round(XGB_precision_cv * 100, 2)} %\")\n",
    "print(f\"XGBoost Cross-Validation Recall: {round(XGB_recall_cv * 100, 2)} %\")\n",
    "print(f\"XGBoost Cross-Validation F1 Score: {round(XGB_f1_cv * 100, 2)} %\")\n",
    "\n",
    "results_CV['Accuracy [%]'].append(round(XGB_mean_accuracy * 100, 2))\n",
    "results_CV['F1 Score [%]'].append(round(XGB_f1_cv * 100, 2))\n",
    "results_CV['Recall [%]'].append(round(XGB_recall_cv * 100, 2))\n",
    "results_CV['Precision [%]'].append(round(XGB_precision_cv * 100, 2))\n",
    "results_CV['Time [s]'].append(round(time_with_cv_XGB, 2))\n",
    "\n",
    "cpu_ram_info_cv = cpu_usage(), ram_usage()\n",
    "results_CV['CPU Usage [%]'].append(cpu_ram_info_cv[0]['CPU Usage [%]'])\n",
    "results_CV['CPU Maximum frequency [MHz]'].append(cpu_ram_info_cv[0]['CPU Maximum frequency [MHz]'])\n",
    "results_CV['RAM Usage [%]'].append(cpu_ram_info_cv[1]['RAM Usage [%]'])\n",
    "results_CV['RAM Used [GB]'].append(cpu_ram_info_cv[1]['RAM Used [GB]'])"
   ],
   "metadata": {
    "collapsed": false,
    "ExecuteTime": {
     "end_time": "2023-11-23T08:28:03.347693600Z",
     "start_time": "2023-11-23T08:27:41.685496400Z"
    }
   },
   "id": "550f53bf23ba2743"
  },
  {
   "cell_type": "markdown",
   "id": "31e58e078f97493",
   "metadata": {
    "collapsed": false
   },
   "source": [
    "### XGBoost - Confusion Matrix "
   ]
  },
  {
   "cell_type": "code",
   "execution_count": 50,
   "id": "84ff1b52bba697f",
   "metadata": {
    "collapsed": false,
    "ExecuteTime": {
     "end_time": "2023-11-23T13:19:36.409590100Z",
     "start_time": "2023-11-23T13:19:36.210360Z"
    }
   },
   "outputs": [
    {
     "data": {
      "text/plain": "<Figure size 800x600 with 1 Axes>",
      "image/png": "[encoded data removed]"
     },
     "metadata": {},
     "output_type": "display_data"
    }
   ],
   "source": [
    "XGB_cm = confusion_matrix(y_test, XGB_predictions)\n",
    "plt.figure(figsize=(8, 6))\n",
    "sns.heatmap(XGB_cm, annot=True, cmap='YlOrBr', fmt='d', cbar=False)\n",
    "plt.title('XGBoost Confusion Matrix')\n",
    "plt.xlabel('Predicted Labels')\n",
    "plt.ylabel('True Labels')\n",
    "plt.savefig('confusion_matrix_XGB.svg', format='svg')\n",
    "plt.show()"
   ]
  },
  {
   "cell_type": "markdown",
   "id": "7da8984b8547d98",
   "metadata": {
    "collapsed": false
   },
   "source": [
    "# Results Table"
   ]
  },
  {
   "cell_type": "code",
   "execution_count": 26,
   "id": "d5850eee8ed59a50",
   "metadata": {
    "collapsed": false,
    "ExecuteTime": {
     "end_time": "2023-11-23T08:28:03.557555700Z",
     "start_time": "2023-11-23T08:28:03.550918500Z"
    }
   },
   "outputs": [
    {
     "data": {
      "text/plain": "             Algorithm  Accuracy [%]  F1 Score [%]  Recall [%]  Precision [%]  \\\n0  Logistic Regression         98.65         98.66       98.66          98.66   \n1        Decision Tree         97.48         97.50       97.50          97.50   \n2        Random Forest         98.61         98.62       98.62          98.62   \n3                  SVM         98.69         98.70       98.70          98.70   \n4  K-Nearest Neighbors         98.58         98.59       98.59          98.59   \n5              XGBoost         98.57         98.58       98.58          98.58   \n\n   Time [s]  CPU Usage [%]  CPU Maximum frequency [MHz]  RAM Usage [%]  \\\n0      3.84           20.0                       3000.0           19.0   \n1      4.17            0.0                       3000.0           19.2   \n2     40.42            0.0                       3000.0           19.1   \n3      4.76           14.3                       3000.0           20.9   \n4      2.39            0.0                       3000.0           20.8   \n5      5.59            0.0                       3000.0           20.6   \n\n   RAM Used [GB]  \n0      12.125229  \n1      12.229996  \n2      12.171062  \n3      13.324493  \n4      13.278751  \n5      13.138233  ",
      "text/html": "<div>\n<style scoped>\n    .dataframe tbody tr th:only-of-type {\n        vertical-align: middle;\n    }\n\n    .dataframe tbody tr th {\n        vertical-align: top;\n    }\n\n    .dataframe thead th {\n        text-align: right;\n    }\n</style>\n<table border=\"1\" class=\"dataframe\">\n  <thead>\n    <tr style=\"text-align: right;\">\n      <th></th>\n      <th>Algorithm</th>\n      <th>Accuracy [%]</th>\n      <th>F1 Score [%]</th>\n      <th>Recall [%]</th>\n      <th>Precision [%]</th>\n      <th>Time [s]</th>\n      <th>CPU Usage [%]</th>\n      <th>CPU Maximum frequency [MHz]</th>\n      <th>RAM Usage [%]</th>\n      <th>RAM Used [GB]</th>\n    </tr>\n  </thead>\n  <tbody>\n    <tr>\n      <th>0</th>\n      <td>Logistic Regression</td>\n      <td>98.65</td>\n      <td>98.66</td>\n      <td>98.66</td>\n      <td>98.66</td>\n      <td>3.84</td>\n      <td>20.0</td>\n      <td>3000.0</td>\n      <td>19.0</td>\n      <td>12.125229</td>\n    </tr>\n    <tr>\n      <th>1</th>\n      <td>Decision Tree</td>\n      <td>97.48</td>\n      <td>97.50</td>\n      <td>97.50</td>\n      <td>97.50</td>\n      <td>4.17</td>\n      <td>0.0</td>\n      <td>3000.0</td>\n      <td>19.2</td>\n      <td>12.229996</td>\n    </tr>\n    <tr>\n      <th>2</th>\n      <td>Random Forest</td>\n      <td>98.61</td>\n      <td>98.62</td>\n      <td>98.62</td>\n      <td>98.62</td>\n      <td>40.42</td>\n      <td>0.0</td>\n      <td>3000.0</td>\n      <td>19.1</td>\n      <td>12.171062</td>\n    </tr>\n    <tr>\n      <th>3</th>\n      <td>SVM</td>\n      <td>98.69</td>\n      <td>98.70</td>\n      <td>98.70</td>\n      <td>98.70</td>\n      <td>4.76</td>\n      <td>14.3</td>\n      <td>3000.0</td>\n      <td>20.9</td>\n      <td>13.324493</td>\n    </tr>\n    <tr>\n      <th>4</th>\n      <td>K-Nearest Neighbors</td>\n      <td>98.58</td>\n      <td>98.59</td>\n      <td>98.59</td>\n      <td>98.59</td>\n      <td>2.39</td>\n      <td>0.0</td>\n      <td>3000.0</td>\n      <td>20.8</td>\n      <td>13.278751</td>\n    </tr>\n    <tr>\n      <th>5</th>\n      <td>XGBoost</td>\n      <td>98.57</td>\n      <td>98.58</td>\n      <td>98.58</td>\n      <td>98.58</td>\n      <td>5.59</td>\n      <td>0.0</td>\n      <td>3000.0</td>\n      <td>20.6</td>\n      <td>13.138233</td>\n    </tr>\n  </tbody>\n</table>\n</div>"
     },
     "execution_count": 26,
     "metadata": {},
     "output_type": "execute_result"
    }
   ],
   "source": [
    "df_results = pd.DataFrame(results)\n",
    "df_results.head(10)"
   ]
  },
  {
   "cell_type": "code",
   "execution_count": 27,
   "outputs": [
    {
     "data": {
      "text/plain": "             Algorithm  Accuracy [%]  F1 Score [%]  Recall [%]  Precision [%]  \\\n0  Logistic Regression         98.79         98.79       98.79          98.79   \n1        Decision Tree         97.78         97.74       97.74          97.75   \n2        Random Forest         98.78         98.79       98.79          98.79   \n3                  SVM         98.86         98.86       98.86          98.86   \n4  K-Nearest Neighbors         98.80         98.80       98.80          98.80   \n5              XGBoost         98.70         98.70       98.70          98.70   \n\n   Time [s]  CPU Usage [%]  CPU Maximum frequency [MHz]  RAM Usage [%]  \\\n0    197.03            0.0                       3000.0           19.2   \n1     43.35            0.0                       3000.0           19.1   \n2    421.86           12.5                       3000.0           20.8   \n3     39.08           71.4                       3000.0           20.8   \n4     22.50          100.0                       3000.0           20.6   \n5     21.45           14.3                       3000.0           20.9   \n\n   RAM Used [GB]  \n0      12.257263  \n1      12.177761  \n2      13.264698  \n3      13.270939  \n4      13.103848  \n5      13.315510  ",
      "text/html": "<div>\n<style scoped>\n    .dataframe tbody tr th:only-of-type {\n        vertical-align: middle;\n    }\n\n    .dataframe tbody tr th {\n        vertical-align: top;\n    }\n\n    .dataframe thead th {\n        text-align: right;\n    }\n</style>\n<table border=\"1\" class=\"dataframe\">\n  <thead>\n    <tr style=\"text-align: right;\">\n      <th></th>\n      <th>Algorithm</th>\n      <th>Accuracy [%]</th>\n      <th>F1 Score [%]</th>\n      <th>Recall [%]</th>\n      <th>Precision [%]</th>\n      <th>Time [s]</th>\n      <th>CPU Usage [%]</th>\n      <th>CPU Maximum frequency [MHz]</th>\n      <th>RAM Usage [%]</th>\n      <th>RAM Used [GB]</th>\n    </tr>\n  </thead>\n  <tbody>\n    <tr>\n      <th>0</th>\n      <td>Logistic Regression</td>\n      <td>98.79</td>\n      <td>98.79</td>\n      <td>98.79</td>\n      <td>98.79</td>\n      <td>197.03</td>\n      <td>0.0</td>\n      <td>3000.0</td>\n      <td>19.2</td>\n      <td>12.257263</td>\n    </tr>\n    <tr>\n      <th>1</th>\n      <td>Decision Tree</td>\n      <td>97.78</td>\n      <td>97.74</td>\n      <td>97.74</td>\n      <td>97.75</td>\n      <td>43.35</td>\n      <td>0.0</td>\n      <td>3000.0</td>\n      <td>19.1</td>\n      <td>12.177761</td>\n    </tr>\n    <tr>\n      <th>2</th>\n      <td>Random Forest</td>\n      <td>98.78</td>\n      <td>98.79</td>\n      <td>98.79</td>\n      <td>98.79</td>\n      <td>421.86</td>\n      <td>12.5</td>\n      <td>3000.0</td>\n      <td>20.8</td>\n      <td>13.264698</td>\n    </tr>\n    <tr>\n      <th>3</th>\n      <td>SVM</td>\n      <td>98.86</td>\n      <td>98.86</td>\n      <td>98.86</td>\n      <td>98.86</td>\n      <td>39.08</td>\n      <td>71.4</td>\n      <td>3000.0</td>\n      <td>20.8</td>\n      <td>13.270939</td>\n    </tr>\n    <tr>\n      <th>4</th>\n      <td>K-Nearest Neighbors</td>\n      <td>98.80</td>\n      <td>98.80</td>\n      <td>98.80</td>\n      <td>98.80</td>\n      <td>22.50</td>\n      <td>100.0</td>\n      <td>3000.0</td>\n      <td>20.6</td>\n      <td>13.103848</td>\n    </tr>\n    <tr>\n      <th>5</th>\n      <td>XGBoost</td>\n      <td>98.70</td>\n      <td>98.70</td>\n      <td>98.70</td>\n      <td>98.70</td>\n      <td>21.45</td>\n      <td>14.3</td>\n      <td>3000.0</td>\n      <td>20.9</td>\n      <td>13.315510</td>\n    </tr>\n  </tbody>\n</table>\n</div>"
     },
     "execution_count": 27,
     "metadata": {},
     "output_type": "execute_result"
    }
   ],
   "source": [
    "df_results_cv = pd.DataFrame(results_CV)\n",
    "df_results_cv.head(10)"
   ],
   "metadata": {
    "collapsed": false,
    "ExecuteTime": {
     "end_time": "2023-11-23T08:28:03.572475900Z",
     "start_time": "2023-11-23T08:28:03.557555700Z"
    }
   },
   "id": "8601cd9556043d5b"
  },
  {
   "cell_type": "markdown",
   "id": "e4210edc8d1cab30",
   "metadata": {
    "collapsed": false
   },
   "source": [
    "# Prediction - Logistic Regression"
   ]
  },
  {
   "cell_type": "markdown",
   "id": "d0efa3dfa94035b3",
   "metadata": {
    "collapsed": false
   },
   "source": [
    "### Logistic Regression without Cross - Validation"
   ]
  },
  {
   "cell_type": "code",
   "execution_count": 28,
   "id": "d1d995645e6804d8",
   "metadata": {
    "collapsed": false,
    "ExecuteTime": {
     "end_time": "2023-11-23T08:28:14.679017800Z",
     "start_time": "2023-11-23T08:28:03.570740400Z"
    }
   },
   "outputs": [
    {
     "data": {
      "text/plain": "      Output predicted\n0                    3\n1                    8\n2                    8\n3                    0\n4                    6\n...                ...\n9995                 8\n9996                 3\n9997                 5\n9998                 1\n9999                 7\n\n[10000 rows x 1 columns]",
      "text/html": "<div>\n<style scoped>\n    .dataframe tbody tr th:only-of-type {\n        vertical-align: middle;\n    }\n\n    .dataframe tbody tr th {\n        vertical-align: top;\n    }\n\n    .dataframe thead th {\n        text-align: right;\n    }\n</style>\n<table border=\"1\" class=\"dataframe\">\n  <thead>\n    <tr style=\"text-align: right;\">\n      <th></th>\n      <th>Output predicted</th>\n    </tr>\n  </thead>\n  <tbody>\n    <tr>\n      <th>0</th>\n      <td>3</td>\n    </tr>\n    <tr>\n      <th>1</th>\n      <td>8</td>\n    </tr>\n    <tr>\n      <th>2</th>\n      <td>8</td>\n    </tr>\n    <tr>\n      <th>3</th>\n      <td>0</td>\n    </tr>\n    <tr>\n      <th>4</th>\n      <td>6</td>\n    </tr>\n    <tr>\n      <th>...</th>\n      <td>...</td>\n    </tr>\n    <tr>\n      <th>9995</th>\n      <td>8</td>\n    </tr>\n    <tr>\n      <th>9996</th>\n      <td>3</td>\n    </tr>\n    <tr>\n      <th>9997</th>\n      <td>5</td>\n    </tr>\n    <tr>\n      <th>9998</th>\n      <td>1</td>\n    </tr>\n    <tr>\n      <th>9999</th>\n      <td>7</td>\n    </tr>\n  </tbody>\n</table>\n<p>10000 rows × 1 columns</p>\n</div>"
     },
     "execution_count": 28,
     "metadata": {},
     "output_type": "execute_result"
    }
   ],
   "source": [
    "X_blind = load_data(filepath_prediction)[0]\n",
    "X_blind_transformed = scaler.transform(X_blind)\n",
    "pred_list_LR = []\n",
    "\n",
    "for feature in X_blind_transformed:\n",
    "    pred = log_reg.predict([feature])\n",
    "    pred_list_LR.append(pred)\n",
    "    flat_list_LR = [num for sublist in pred_list_LR for num in sublist]\n",
    "\n",
    "data = {\n",
    "    'Output predicted': flat_list_LR,\n",
    "}\n",
    "\n",
    "df_pre_LR = pd.DataFrame(data)\n",
    "df_pre_LR.head(10000)"
   ]
  },
  {
   "cell_type": "markdown",
   "id": "6bf31058f908f475",
   "metadata": {
    "collapsed": false
   },
   "source": [
    "### Logistic Regression with Cross - Validation"
   ]
  },
  {
   "cell_type": "code",
   "execution_count": 29,
   "id": "5157a0ef5f1945dc",
   "metadata": {
    "collapsed": false,
    "ExecuteTime": {
     "end_time": "2023-11-23T08:28:51.164009900Z",
     "start_time": "2023-11-23T08:28:14.679017800Z"
    }
   },
   "outputs": [
    {
     "data": {
      "text/plain": "      Output predicted\n0                    3\n1                    1\n2                    0\n3                    0\n4                    6\n...                ...\n9995                 6\n9996                 3\n9997                 2\n9998                 6\n9999                 7\n\n[10000 rows x 1 columns]",
      "text/html": "<div>\n<style scoped>\n    .dataframe tbody tr th:only-of-type {\n        vertical-align: middle;\n    }\n\n    .dataframe tbody tr th {\n        vertical-align: top;\n    }\n\n    .dataframe thead th {\n        text-align: right;\n    }\n</style>\n<table border=\"1\" class=\"dataframe\">\n  <thead>\n    <tr style=\"text-align: right;\">\n      <th></th>\n      <th>Output predicted</th>\n    </tr>\n  </thead>\n  <tbody>\n    <tr>\n      <th>0</th>\n      <td>3</td>\n    </tr>\n    <tr>\n      <th>1</th>\n      <td>1</td>\n    </tr>\n    <tr>\n      <th>2</th>\n      <td>0</td>\n    </tr>\n    <tr>\n      <th>3</th>\n      <td>0</td>\n    </tr>\n    <tr>\n      <th>4</th>\n      <td>6</td>\n    </tr>\n    <tr>\n      <th>...</th>\n      <td>...</td>\n    </tr>\n    <tr>\n      <th>9995</th>\n      <td>6</td>\n    </tr>\n    <tr>\n      <th>9996</th>\n      <td>3</td>\n    </tr>\n    <tr>\n      <th>9997</th>\n      <td>2</td>\n    </tr>\n    <tr>\n      <th>9998</th>\n      <td>6</td>\n    </tr>\n    <tr>\n      <th>9999</th>\n      <td>7</td>\n    </tr>\n  </tbody>\n</table>\n<p>10000 rows × 1 columns</p>\n</div>"
     },
     "execution_count": 29,
     "metadata": {},
     "output_type": "execute_result"
    }
   ],
   "source": [
    "X_blind = load_data(filepath_prediction)[0]\n",
    "X_blind_transformed = scaler.transform(X_blind)\n",
    "pred_list_LRCV = []\n",
    "\n",
    "best_model_index = np.argmax(log_reg_cv_predictions)\n",
    "best_log_reg_model = LogisticRegression(max_iter=10000)\n",
    "best_log_reg_model.fit(X, Y)\n",
    "\n",
    "for feature in X_blind_transformed:\n",
    "    pred = best_log_reg_model.predict([feature])\n",
    "    pred_list_LRCV.append(pred)\n",
    "    flat_list_LRCV = [num for sublist in pred_list_LRCV for num in sublist]\n",
    "    \n",
    "data = {\n",
    "    'Output predicted': flat_list_LRCV,\n",
    "}\n",
    "\n",
    "df_pre_LRCV = pd.DataFrame(data)\n",
    "df_pre_LRCV.head(10000)"
   ]
  },
  {
   "cell_type": "markdown",
   "id": "1bcb317e64c85e9f",
   "metadata": {
    "collapsed": false
   },
   "source": [
    "# Prediction - Decision Tree"
   ]
  },
  {
   "cell_type": "markdown",
   "id": "99ac2e94008c9d18",
   "metadata": {
    "collapsed": false
   },
   "source": [
    "### Decision Tree without Cross - Validation"
   ]
  },
  {
   "cell_type": "code",
   "execution_count": 30,
   "id": "ba2e867c9308fdf3",
   "metadata": {
    "collapsed": false,
    "ExecuteTime": {
     "end_time": "2023-11-23T08:29:02.206126700Z",
     "start_time": "2023-11-23T08:28:51.164009900Z"
    }
   },
   "outputs": [
    {
     "data": {
      "text/plain": "      Output predicted\n0                    3\n1                    8\n2                    8\n3                    0\n4                    6\n...                ...\n9995                 8\n9996                 3\n9997                 5\n9998                 1\n9999                 7\n\n[10000 rows x 1 columns]",
      "text/html": "<div>\n<style scoped>\n    .dataframe tbody tr th:only-of-type {\n        vertical-align: middle;\n    }\n\n    .dataframe tbody tr th {\n        vertical-align: top;\n    }\n\n    .dataframe thead th {\n        text-align: right;\n    }\n</style>\n<table border=\"1\" class=\"dataframe\">\n  <thead>\n    <tr style=\"text-align: right;\">\n      <th></th>\n      <th>Output predicted</th>\n    </tr>\n  </thead>\n  <tbody>\n    <tr>\n      <th>0</th>\n      <td>3</td>\n    </tr>\n    <tr>\n      <th>1</th>\n      <td>8</td>\n    </tr>\n    <tr>\n      <th>2</th>\n      <td>8</td>\n    </tr>\n    <tr>\n      <th>3</th>\n      <td>0</td>\n    </tr>\n    <tr>\n      <th>4</th>\n      <td>6</td>\n    </tr>\n    <tr>\n      <th>...</th>\n      <td>...</td>\n    </tr>\n    <tr>\n      <th>9995</th>\n      <td>8</td>\n    </tr>\n    <tr>\n      <th>9996</th>\n      <td>3</td>\n    </tr>\n    <tr>\n      <th>9997</th>\n      <td>5</td>\n    </tr>\n    <tr>\n      <th>9998</th>\n      <td>1</td>\n    </tr>\n    <tr>\n      <th>9999</th>\n      <td>7</td>\n    </tr>\n  </tbody>\n</table>\n<p>10000 rows × 1 columns</p>\n</div>"
     },
     "execution_count": 30,
     "metadata": {},
     "output_type": "execute_result"
    }
   ],
   "source": [
    "X_blind = load_data(filepath_prediction)[0]\n",
    "X_blind_transformed = scaler.transform(X_blind)\n",
    "pred_list_DT = []\n",
    "\n",
    "for feature in X_blind_transformed:\n",
    "    pred = decision_tree.predict([feature])\n",
    "    pred_list_DT.append(pred)\n",
    "    flat_list_DT = [num for sublist in pred_list_DT for num in sublist]\n",
    "\n",
    "data = {\n",
    "    'Output predicted': flat_list_DT,\n",
    "}\n",
    "\n",
    "df_pre_DT = pd.DataFrame(data)\n",
    "df_pre_DT.head(10000)"
   ]
  },
  {
   "cell_type": "markdown",
   "id": "24e4d61db6a73585",
   "metadata": {
    "collapsed": false
   },
   "source": [
    "### Decision Tree with Cross - Validation"
   ]
  },
  {
   "cell_type": "code",
   "execution_count": 31,
   "id": "228eafefdc8951a0",
   "metadata": {
    "collapsed": false,
    "ExecuteTime": {
     "end_time": "2023-11-23T08:29:20.322436900Z",
     "start_time": "2023-11-23T08:29:02.206126700Z"
    }
   },
   "outputs": [
    {
     "data": {
      "text/plain": "      Output predicted\n0                    4\n1                    4\n2                    4\n3                    8\n4                    2\n...                ...\n9995                 4\n9996                 2\n9997                 5\n9998                 2\n9999                 4\n\n[10000 rows x 1 columns]",
      "text/html": "<div>\n<style scoped>\n    .dataframe tbody tr th:only-of-type {\n        vertical-align: middle;\n    }\n\n    .dataframe tbody tr th {\n        vertical-align: top;\n    }\n\n    .dataframe thead th {\n        text-align: right;\n    }\n</style>\n<table border=\"1\" class=\"dataframe\">\n  <thead>\n    <tr style=\"text-align: right;\">\n      <th></th>\n      <th>Output predicted</th>\n    </tr>\n  </thead>\n  <tbody>\n    <tr>\n      <th>0</th>\n      <td>4</td>\n    </tr>\n    <tr>\n      <th>1</th>\n      <td>4</td>\n    </tr>\n    <tr>\n      <th>2</th>\n      <td>4</td>\n    </tr>\n    <tr>\n      <th>3</th>\n      <td>8</td>\n    </tr>\n    <tr>\n      <th>4</th>\n      <td>2</td>\n    </tr>\n    <tr>\n      <th>...</th>\n      <td>...</td>\n    </tr>\n    <tr>\n      <th>9995</th>\n      <td>4</td>\n    </tr>\n    <tr>\n      <th>9996</th>\n      <td>2</td>\n    </tr>\n    <tr>\n      <th>9997</th>\n      <td>5</td>\n    </tr>\n    <tr>\n      <th>9998</th>\n      <td>2</td>\n    </tr>\n    <tr>\n      <th>9999</th>\n      <td>4</td>\n    </tr>\n  </tbody>\n</table>\n<p>10000 rows × 1 columns</p>\n</div>"
     },
     "execution_count": 31,
     "metadata": {},
     "output_type": "execute_result"
    }
   ],
   "source": [
    "X_blind = load_data(filepath_prediction)[0]\n",
    "X_blind_transformed = scaler.transform(X_blind)\n",
    "pred_list_DTCV = []\n",
    "\n",
    "best_model_index = np.argmax(DT_cv_scores)\n",
    "best_DT_model = DecisionTreeClassifier()\n",
    "best_DT_model.fit(X, Y)\n",
    "\n",
    "for feature in X_blind_transformed:\n",
    "    pred = best_DT_model.predict([feature])\n",
    "    pred_list_DTCV.append(pred)\n",
    "    flat_list_DTCV = [num for sublist in pred_list_DTCV for num in sublist]\n",
    "    \n",
    "data = {\n",
    "    'Output predicted': flat_list_DTCV,\n",
    "}\n",
    "\n",
    "df_pre_DTCV = pd.DataFrame(data)\n",
    "df_pre_DTCV.head(10000)"
   ]
  },
  {
   "cell_type": "markdown",
   "id": "cf79afb58d63eb45",
   "metadata": {
    "collapsed": false
   },
   "source": [
    "# Prediction - Random Forest"
   ]
  },
  {
   "cell_type": "markdown",
   "id": "122b04ea2f7aa3e",
   "metadata": {
    "collapsed": false
   },
   "source": [
    "### Random Forest without Cross - Validation"
   ]
  },
  {
   "cell_type": "code",
   "execution_count": 32,
   "id": "f628c067dc1b6bad",
   "metadata": {
    "collapsed": false,
    "ExecuteTime": {
     "end_time": "2023-11-23T08:29:57.572743600Z",
     "start_time": "2023-11-23T08:29:20.322436900Z"
    }
   },
   "outputs": [
    {
     "data": {
      "text/plain": "      Output predicted\n0                    3\n1                    8\n2                    8\n3                    0\n4                    6\n...                ...\n9995                 8\n9996                 3\n9997                 5\n9998                 1\n9999                 7\n\n[10000 rows x 1 columns]",
      "text/html": "<div>\n<style scoped>\n    .dataframe tbody tr th:only-of-type {\n        vertical-align: middle;\n    }\n\n    .dataframe tbody tr th {\n        vertical-align: top;\n    }\n\n    .dataframe thead th {\n        text-align: right;\n    }\n</style>\n<table border=\"1\" class=\"dataframe\">\n  <thead>\n    <tr style=\"text-align: right;\">\n      <th></th>\n      <th>Output predicted</th>\n    </tr>\n  </thead>\n  <tbody>\n    <tr>\n      <th>0</th>\n      <td>3</td>\n    </tr>\n    <tr>\n      <th>1</th>\n      <td>8</td>\n    </tr>\n    <tr>\n      <th>2</th>\n      <td>8</td>\n    </tr>\n    <tr>\n      <th>3</th>\n      <td>0</td>\n    </tr>\n    <tr>\n      <th>4</th>\n      <td>6</td>\n    </tr>\n    <tr>\n      <th>...</th>\n      <td>...</td>\n    </tr>\n    <tr>\n      <th>9995</th>\n      <td>8</td>\n    </tr>\n    <tr>\n      <th>9996</th>\n      <td>3</td>\n    </tr>\n    <tr>\n      <th>9997</th>\n      <td>5</td>\n    </tr>\n    <tr>\n      <th>9998</th>\n      <td>1</td>\n    </tr>\n    <tr>\n      <th>9999</th>\n      <td>7</td>\n    </tr>\n  </tbody>\n</table>\n<p>10000 rows × 1 columns</p>\n</div>"
     },
     "execution_count": 32,
     "metadata": {},
     "output_type": "execute_result"
    }
   ],
   "source": [
    "X_blind = load_data(filepath_prediction)[0]\n",
    "X_blind_transformed = scaler.transform(X_blind)\n",
    "pred_list_RF = []\n",
    "\n",
    "for feature in X_blind_transformed:\n",
    "    pred = random_forest.predict([feature])\n",
    "    pred_list_RF.append(pred)\n",
    "    flat_list_RF = [num for sublist in pred_list_RF for num in sublist]\n",
    "    \n",
    "data = {\n",
    "    'Output predicted': flat_list_RF,\n",
    "}\n",
    "\n",
    "df_pre_RF = pd.DataFrame(data)\n",
    "df_pre_RF.head(10000)"
   ]
  },
  {
   "cell_type": "markdown",
   "id": "fd3f7206a432c8e9",
   "metadata": {
    "collapsed": false
   },
   "source": [
    "### Random Forest with Cross - Validation"
   ]
  },
  {
   "cell_type": "code",
   "execution_count": 33,
   "id": "bcdd0af149669330",
   "metadata": {
    "collapsed": false,
    "ExecuteTime": {
     "end_time": "2023-11-23T08:31:36.324552900Z",
     "start_time": "2023-11-23T08:29:57.572743600Z"
    }
   },
   "outputs": [
    {
     "data": {
      "text/plain": "      Output predicted\n0                    3\n1                    8\n2                    8\n3                    8\n4                    6\n...                ...\n9995                 8\n9996                 3\n9997                 5\n9998                 9\n9999                 7\n\n[10000 rows x 1 columns]",
      "text/html": "<div>\n<style scoped>\n    .dataframe tbody tr th:only-of-type {\n        vertical-align: middle;\n    }\n\n    .dataframe tbody tr th {\n        vertical-align: top;\n    }\n\n    .dataframe thead th {\n        text-align: right;\n    }\n</style>\n<table border=\"1\" class=\"dataframe\">\n  <thead>\n    <tr style=\"text-align: right;\">\n      <th></th>\n      <th>Output predicted</th>\n    </tr>\n  </thead>\n  <tbody>\n    <tr>\n      <th>0</th>\n      <td>3</td>\n    </tr>\n    <tr>\n      <th>1</th>\n      <td>8</td>\n    </tr>\n    <tr>\n      <th>2</th>\n      <td>8</td>\n    </tr>\n    <tr>\n      <th>3</th>\n      <td>8</td>\n    </tr>\n    <tr>\n      <th>4</th>\n      <td>6</td>\n    </tr>\n    <tr>\n      <th>...</th>\n      <td>...</td>\n    </tr>\n    <tr>\n      <th>9995</th>\n      <td>8</td>\n    </tr>\n    <tr>\n      <th>9996</th>\n      <td>3</td>\n    </tr>\n    <tr>\n      <th>9997</th>\n      <td>5</td>\n    </tr>\n    <tr>\n      <th>9998</th>\n      <td>9</td>\n    </tr>\n    <tr>\n      <th>9999</th>\n      <td>7</td>\n    </tr>\n  </tbody>\n</table>\n<p>10000 rows × 1 columns</p>\n</div>"
     },
     "execution_count": 33,
     "metadata": {},
     "output_type": "execute_result"
    }
   ],
   "source": [
    "X_blind = load_data(filepath_prediction)[0]\n",
    "X_blind_transformed = scaler.transform(X_blind)\n",
    "pred_list_RFCV = []\n",
    "\n",
    "best_model_index = np.argmax(RF_cv_scores)\n",
    "best_RF_model = RandomForestClassifier()\n",
    "best_RF_model.fit(X, Y)\n",
    "\n",
    "for feature in X_blind_transformed:\n",
    "    pred = best_RF_model.predict([feature])\n",
    "    pred_list_RFCV.append(pred)\n",
    "    flat_list_RFCV = [num for sublist in pred_list_RFCV for num in sublist]\n",
    "    \n",
    "data = {\n",
    "    'Output predicted': flat_list_RFCV,\n",
    "}\n",
    "\n",
    "df_pre_RFCV = pd.DataFrame(data)\n",
    "df_pre_RFCV.head(10000)"
   ]
  },
  {
   "cell_type": "markdown",
   "id": "2481489d67fdbad8",
   "metadata": {
    "collapsed": false
   },
   "source": [
    "# Prediction - Support Vector Machine"
   ]
  },
  {
   "cell_type": "markdown",
   "id": "b8f2d793b43fe794",
   "metadata": {
    "collapsed": false
   },
   "source": [
    "### Support Vector Machine without Cross-Validation"
   ]
  },
  {
   "cell_type": "code",
   "execution_count": 34,
   "id": "52542e0992a9bc5c",
   "metadata": {
    "collapsed": false,
    "ExecuteTime": {
     "end_time": "2023-11-23T08:32:00.079071500Z",
     "start_time": "2023-11-23T08:31:36.324552900Z"
    }
   },
   "outputs": [
    {
     "data": {
      "text/plain": "      Output predicted\n0                    3\n1                    8\n2                    8\n3                    0\n4                    6\n...                ...\n9995                 8\n9996                 3\n9997                 5\n9998                 1\n9999                 7\n\n[10000 rows x 1 columns]",
      "text/html": "<div>\n<style scoped>\n    .dataframe tbody tr th:only-of-type {\n        vertical-align: middle;\n    }\n\n    .dataframe tbody tr th {\n        vertical-align: top;\n    }\n\n    .dataframe thead th {\n        text-align: right;\n    }\n</style>\n<table border=\"1\" class=\"dataframe\">\n  <thead>\n    <tr style=\"text-align: right;\">\n      <th></th>\n      <th>Output predicted</th>\n    </tr>\n  </thead>\n  <tbody>\n    <tr>\n      <th>0</th>\n      <td>3</td>\n    </tr>\n    <tr>\n      <th>1</th>\n      <td>8</td>\n    </tr>\n    <tr>\n      <th>2</th>\n      <td>8</td>\n    </tr>\n    <tr>\n      <th>3</th>\n      <td>0</td>\n    </tr>\n    <tr>\n      <th>4</th>\n      <td>6</td>\n    </tr>\n    <tr>\n      <th>...</th>\n      <td>...</td>\n    </tr>\n    <tr>\n      <th>9995</th>\n      <td>8</td>\n    </tr>\n    <tr>\n      <th>9996</th>\n      <td>3</td>\n    </tr>\n    <tr>\n      <th>9997</th>\n      <td>5</td>\n    </tr>\n    <tr>\n      <th>9998</th>\n      <td>1</td>\n    </tr>\n    <tr>\n      <th>9999</th>\n      <td>7</td>\n    </tr>\n  </tbody>\n</table>\n<p>10000 rows × 1 columns</p>\n</div>"
     },
     "execution_count": 34,
     "metadata": {},
     "output_type": "execute_result"
    }
   ],
   "source": [
    "X_blind = load_data(filepath_prediction)[0]\n",
    "X_blind_transformed = scaler.transform(X_blind)\n",
    "pred_list_SVM = []\n",
    "\n",
    "for feature in X_blind_transformed:\n",
    "    pred = SVM.predict([feature])\n",
    "    pred_list_SVM.append(pred)\n",
    "    flat_list_SVM = [num for sublist in pred_list_SVM for num in sublist]\n",
    "    \n",
    "data = {\n",
    "    'Output predicted': flat_list_SVM,\n",
    "}\n",
    "\n",
    "df_pre_SVM = pd.DataFrame(data)\n",
    "df_pre_SVM.head(10000)"
   ]
  },
  {
   "cell_type": "markdown",
   "id": "a4c174fa8263d0a6",
   "metadata": {
    "collapsed": false
   },
   "source": [
    "### Support Vector Machine with Cross-Validation"
   ]
  },
  {
   "cell_type": "code",
   "execution_count": 35,
   "id": "e9b146476c84c2d9",
   "metadata": {
    "collapsed": false,
    "ExecuteTime": {
     "end_time": "2023-11-23T08:32:28.139794800Z",
     "start_time": "2023-11-23T08:32:00.079071500Z"
    }
   },
   "outputs": [
    {
     "data": {
      "text/plain": "      Output predicted\n0                    3\n1                    8\n2                    8\n3                    0\n4                    6\n...                ...\n9995                 3\n9996                 3\n9997                 5\n9998                 5\n9999                 7\n\n[10000 rows x 1 columns]",
      "text/html": "<div>\n<style scoped>\n    .dataframe tbody tr th:only-of-type {\n        vertical-align: middle;\n    }\n\n    .dataframe tbody tr th {\n        vertical-align: top;\n    }\n\n    .dataframe thead th {\n        text-align: right;\n    }\n</style>\n<table border=\"1\" class=\"dataframe\">\n  <thead>\n    <tr style=\"text-align: right;\">\n      <th></th>\n      <th>Output predicted</th>\n    </tr>\n  </thead>\n  <tbody>\n    <tr>\n      <th>0</th>\n      <td>3</td>\n    </tr>\n    <tr>\n      <th>1</th>\n      <td>8</td>\n    </tr>\n    <tr>\n      <th>2</th>\n      <td>8</td>\n    </tr>\n    <tr>\n      <th>3</th>\n      <td>0</td>\n    </tr>\n    <tr>\n      <th>4</th>\n      <td>6</td>\n    </tr>\n    <tr>\n      <th>...</th>\n      <td>...</td>\n    </tr>\n    <tr>\n      <th>9995</th>\n      <td>3</td>\n    </tr>\n    <tr>\n      <th>9996</th>\n      <td>3</td>\n    </tr>\n    <tr>\n      <th>9997</th>\n      <td>5</td>\n    </tr>\n    <tr>\n      <th>9998</th>\n      <td>5</td>\n    </tr>\n    <tr>\n      <th>9999</th>\n      <td>7</td>\n    </tr>\n  </tbody>\n</table>\n<p>10000 rows × 1 columns</p>\n</div>"
     },
     "execution_count": 35,
     "metadata": {},
     "output_type": "execute_result"
    }
   ],
   "source": [
    "X_blind = load_data(filepath_prediction)[0]\n",
    "X_blind_transformed = scaler.transform(X_blind)\n",
    "pred_list_SVMCV = []\n",
    "\n",
    "best_model_index = np.argmax(SVM_cv_scores)\n",
    "best_SVM_model = SVC()\n",
    "best_SVM_model.fit(X, Y)\n",
    "\n",
    "for feature in X_blind_transformed:\n",
    "    pred = best_SVM_model.predict([feature])\n",
    "    pred_list_SVMCV.append(pred)\n",
    "    flat_list_SVMCV = [num for sublist in pred_list_SVMCV for num in sublist]\n",
    "    \n",
    "data = {\n",
    "    'Output predicted': flat_list_SVMCV,\n",
    "}\n",
    "\n",
    "df_pre_SVMCV = pd.DataFrame(data)\n",
    "df_pre_SVMCV.head(10000)"
   ]
  },
  {
   "cell_type": "markdown",
   "id": "4af79f62f1ba6c0a",
   "metadata": {
    "collapsed": false
   },
   "source": [
    "# Prediction - K-Nearest Neighbors"
   ]
  },
  {
   "cell_type": "markdown",
   "id": "dab79d9049fd3dd6",
   "metadata": {
    "collapsed": false
   },
   "source": [
    "### K-Nearest Neighbors without Cross-Validation"
   ]
  },
  {
   "cell_type": "code",
   "execution_count": 36,
   "id": "12f8058fd7e53ebf",
   "metadata": {
    "collapsed": false,
    "ExecuteTime": {
     "end_time": "2023-11-23T08:32:53.281440300Z",
     "start_time": "2023-11-23T08:32:28.139794800Z"
    }
   },
   "outputs": [
    {
     "data": {
      "text/plain": "      Output predicted\n0                    3\n1                    8\n2                    8\n3                    0\n4                    6\n...                ...\n9995                 8\n9996                 3\n9997                 5\n9998                 1\n9999                 7\n\n[10000 rows x 1 columns]",
      "text/html": "<div>\n<style scoped>\n    .dataframe tbody tr th:only-of-type {\n        vertical-align: middle;\n    }\n\n    .dataframe tbody tr th {\n        vertical-align: top;\n    }\n\n    .dataframe thead th {\n        text-align: right;\n    }\n</style>\n<table border=\"1\" class=\"dataframe\">\n  <thead>\n    <tr style=\"text-align: right;\">\n      <th></th>\n      <th>Output predicted</th>\n    </tr>\n  </thead>\n  <tbody>\n    <tr>\n      <th>0</th>\n      <td>3</td>\n    </tr>\n    <tr>\n      <th>1</th>\n      <td>8</td>\n    </tr>\n    <tr>\n      <th>2</th>\n      <td>8</td>\n    </tr>\n    <tr>\n      <th>3</th>\n      <td>0</td>\n    </tr>\n    <tr>\n      <th>4</th>\n      <td>6</td>\n    </tr>\n    <tr>\n      <th>...</th>\n      <td>...</td>\n    </tr>\n    <tr>\n      <th>9995</th>\n      <td>8</td>\n    </tr>\n    <tr>\n      <th>9996</th>\n      <td>3</td>\n    </tr>\n    <tr>\n      <th>9997</th>\n      <td>5</td>\n    </tr>\n    <tr>\n      <th>9998</th>\n      <td>1</td>\n    </tr>\n    <tr>\n      <th>9999</th>\n      <td>7</td>\n    </tr>\n  </tbody>\n</table>\n<p>10000 rows × 1 columns</p>\n</div>"
     },
     "execution_count": 36,
     "metadata": {},
     "output_type": "execute_result"
    }
   ],
   "source": [
    "X_blind = load_data(filepath_prediction)[0]\n",
    "X_blind_transformed = scaler.transform(X_blind)\n",
    "pred_list_KNN = []\n",
    "\n",
    "for feature in X_blind_transformed:\n",
    "    pred = KNN.predict([feature])\n",
    "    pred_list_KNN.append(pred)\n",
    "    flat_list_KNN = [num for sublist in pred_list_KNN for num in sublist]\n",
    "    \n",
    "data = {\n",
    "    'Output predicted': flat_list_KNN,\n",
    "}\n",
    "\n",
    "df_pre_KNN = pd.DataFrame(data)\n",
    "df_pre_KNN.head(10000)"
   ]
  },
  {
   "cell_type": "markdown",
   "id": "d33bb241c96943a",
   "metadata": {
    "collapsed": false
   },
   "source": [
    "### K-Nearest Neighbors with Cross-Validation"
   ]
  },
  {
   "cell_type": "code",
   "execution_count": 37,
   "id": "e0f27a4c28ddd909",
   "metadata": {
    "collapsed": false,
    "ExecuteTime": {
     "end_time": "2023-11-23T08:33:22.611349600Z",
     "start_time": "2023-11-23T08:32:53.281440300Z"
    }
   },
   "outputs": [
    {
     "data": {
      "text/plain": "      Output predicted\n0                    3\n1                    8\n2                    8\n3                    0\n4                    6\n...                ...\n9995                 3\n9996                 3\n9997                 5\n9998                 5\n9999                 7\n\n[10000 rows x 1 columns]",
      "text/html": "<div>\n<style scoped>\n    .dataframe tbody tr th:only-of-type {\n        vertical-align: middle;\n    }\n\n    .dataframe tbody tr th {\n        vertical-align: top;\n    }\n\n    .dataframe thead th {\n        text-align: right;\n    }\n</style>\n<table border=\"1\" class=\"dataframe\">\n  <thead>\n    <tr style=\"text-align: right;\">\n      <th></th>\n      <th>Output predicted</th>\n    </tr>\n  </thead>\n  <tbody>\n    <tr>\n      <th>0</th>\n      <td>3</td>\n    </tr>\n    <tr>\n      <th>1</th>\n      <td>8</td>\n    </tr>\n    <tr>\n      <th>2</th>\n      <td>8</td>\n    </tr>\n    <tr>\n      <th>3</th>\n      <td>0</td>\n    </tr>\n    <tr>\n      <th>4</th>\n      <td>6</td>\n    </tr>\n    <tr>\n      <th>...</th>\n      <td>...</td>\n    </tr>\n    <tr>\n      <th>9995</th>\n      <td>3</td>\n    </tr>\n    <tr>\n      <th>9996</th>\n      <td>3</td>\n    </tr>\n    <tr>\n      <th>9997</th>\n      <td>5</td>\n    </tr>\n    <tr>\n      <th>9998</th>\n      <td>5</td>\n    </tr>\n    <tr>\n      <th>9999</th>\n      <td>7</td>\n    </tr>\n  </tbody>\n</table>\n<p>10000 rows × 1 columns</p>\n</div>"
     },
     "execution_count": 37,
     "metadata": {},
     "output_type": "execute_result"
    }
   ],
   "source": [
    "X_blind = load_data(filepath_prediction)[0]\n",
    "X_blind_transformed = scaler.transform(X_blind)\n",
    "pred_list_KNNCV = []\n",
    "\n",
    "best_model_index = np.argmax(KNN_cv_scores)\n",
    "best_KNN_model = KNeighborsClassifier()\n",
    "best_KNN_model.fit(X, Y)\n",
    "\n",
    "for feature in X_blind_transformed:\n",
    "    pred = best_KNN_model.predict([feature])\n",
    "    pred_list_KNNCV.append(pred)\n",
    "    flat_list_KNNCV = [num for sublist in pred_list_KNNCV for num in sublist]\n",
    "\n",
    "data = {\n",
    "    'Output predicted': flat_list_KNNCV,\n",
    "}\n",
    "\n",
    "df_pre_KNNCV = pd.DataFrame(data)\n",
    "df_pre_KNNCV.head(10000)"
   ]
  },
  {
   "cell_type": "markdown",
   "id": "fc98626d68b2d461",
   "metadata": {
    "collapsed": false
   },
   "source": [
    "# Prediction - XGB"
   ]
  },
  {
   "cell_type": "markdown",
   "id": "669cf7dbd6a51b96",
   "metadata": {
    "collapsed": false
   },
   "source": [
    "### XGB without Cross-Validation"
   ]
  },
  {
   "cell_type": "code",
   "execution_count": 38,
   "id": "364b97474794e581",
   "metadata": {
    "collapsed": false,
    "ExecuteTime": {
     "end_time": "2023-11-23T08:33:41.241802300Z",
     "start_time": "2023-11-23T08:33:22.611349600Z"
    }
   },
   "outputs": [
    {
     "data": {
      "text/plain": "      Output predicted\n0                    3\n1                    8\n2                    8\n3                    0\n4                    6\n...                ...\n9995                 8\n9996                 3\n9997                 5\n9998                 1\n9999                 7\n\n[10000 rows x 1 columns]",
      "text/html": "<div>\n<style scoped>\n    .dataframe tbody tr th:only-of-type {\n        vertical-align: middle;\n    }\n\n    .dataframe tbody tr th {\n        vertical-align: top;\n    }\n\n    .dataframe thead th {\n        text-align: right;\n    }\n</style>\n<table border=\"1\" class=\"dataframe\">\n  <thead>\n    <tr style=\"text-align: right;\">\n      <th></th>\n      <th>Output predicted</th>\n    </tr>\n  </thead>\n  <tbody>\n    <tr>\n      <th>0</th>\n      <td>3</td>\n    </tr>\n    <tr>\n      <th>1</th>\n      <td>8</td>\n    </tr>\n    <tr>\n      <th>2</th>\n      <td>8</td>\n    </tr>\n    <tr>\n      <th>3</th>\n      <td>0</td>\n    </tr>\n    <tr>\n      <th>4</th>\n      <td>6</td>\n    </tr>\n    <tr>\n      <th>...</th>\n      <td>...</td>\n    </tr>\n    <tr>\n      <th>9995</th>\n      <td>8</td>\n    </tr>\n    <tr>\n      <th>9996</th>\n      <td>3</td>\n    </tr>\n    <tr>\n      <th>9997</th>\n      <td>5</td>\n    </tr>\n    <tr>\n      <th>9998</th>\n      <td>1</td>\n    </tr>\n    <tr>\n      <th>9999</th>\n      <td>7</td>\n    </tr>\n  </tbody>\n</table>\n<p>10000 rows × 1 columns</p>\n</div>"
     },
     "execution_count": 38,
     "metadata": {},
     "output_type": "execute_result"
    }
   ],
   "source": [
    "X_blind = load_data(filepath_prediction)[0]\n",
    "X_blind_transformed = scaler.transform(X_blind)\n",
    "pred_list_XGB = []\n",
    "\n",
    "for feature in X_blind_transformed:\n",
    "    pred = XGB.predict([feature])\n",
    "    pred_list_XGB.append(pred)\n",
    "    flat_list_XGB = [num for sublist in pred_list_XGB for num in sublist]\n",
    "    \n",
    "data = {\n",
    "    'Output predicted': flat_list_XGB,\n",
    "}\n",
    "\n",
    "df_pre_XGB = pd.DataFrame(data)\n",
    "df_pre_XGB.head(10000)"
   ]
  },
  {
   "cell_type": "markdown",
   "id": "c977795b61b35d9",
   "metadata": {
    "collapsed": false
   },
   "source": [
    "### XGB with Cross-Validation"
   ]
  },
  {
   "cell_type": "code",
   "execution_count": 39,
   "id": "e32c467c01019adb",
   "metadata": {
    "collapsed": false,
    "ExecuteTime": {
     "end_time": "2023-11-23T08:34:03.561173200Z",
     "start_time": "2023-11-23T08:33:41.243773500Z"
    }
   },
   "outputs": [
    {
     "data": {
      "text/plain": "      Output predicted\n0                    3\n1                    8\n2                    6\n3                    0\n4                    6\n...                ...\n9995                 6\n9996                 3\n9997                 5\n9998                 5\n9999                 7\n\n[10000 rows x 1 columns]",
      "text/html": "<div>\n<style scoped>\n    .dataframe tbody tr th:only-of-type {\n        vertical-align: middle;\n    }\n\n    .dataframe tbody tr th {\n        vertical-align: top;\n    }\n\n    .dataframe thead th {\n        text-align: right;\n    }\n</style>\n<table border=\"1\" class=\"dataframe\">\n  <thead>\n    <tr style=\"text-align: right;\">\n      <th></th>\n      <th>Output predicted</th>\n    </tr>\n  </thead>\n  <tbody>\n    <tr>\n      <th>0</th>\n      <td>3</td>\n    </tr>\n    <tr>\n      <th>1</th>\n      <td>8</td>\n    </tr>\n    <tr>\n      <th>2</th>\n      <td>6</td>\n    </tr>\n    <tr>\n      <th>3</th>\n      <td>0</td>\n    </tr>\n    <tr>\n      <th>4</th>\n      <td>6</td>\n    </tr>\n    <tr>\n      <th>...</th>\n      <td>...</td>\n    </tr>\n    <tr>\n      <th>9995</th>\n      <td>6</td>\n    </tr>\n    <tr>\n      <th>9996</th>\n      <td>3</td>\n    </tr>\n    <tr>\n      <th>9997</th>\n      <td>5</td>\n    </tr>\n    <tr>\n      <th>9998</th>\n      <td>5</td>\n    </tr>\n    <tr>\n      <th>9999</th>\n      <td>7</td>\n    </tr>\n  </tbody>\n</table>\n<p>10000 rows × 1 columns</p>\n</div>"
     },
     "execution_count": 39,
     "metadata": {},
     "output_type": "execute_result"
    }
   ],
   "source": [
    "X_blind = load_data(filepath_prediction)[0]\n",
    "X_blind_transformed = scaler.transform(X_blind)\n",
    "pred_list_XGBCV = []\n",
    "\n",
    "best_model_index = np.argmax(XGB_cv_scores)\n",
    "best_XGB_model = XGBClassifier()\n",
    "best_XGB_model.fit(X, Y)\n",
    "\n",
    "for feature in X_blind_transformed:\n",
    "    pred = best_XGB_model.predict([feature])\n",
    "    pred_list_XGBCV.append(pred)\n",
    "    flat_list_XGBCV = [num for sublist in pred_list_XGBCV for num in sublist]\n",
    "    \n",
    "data = {\n",
    "    'Output predicted': flat_list_XGBCV,\n",
    "}\n",
    "\n",
    "df_pre_XGBCV = pd.DataFrame(data)\n",
    "df_pre_XGBCV.head(10000)"
   ]
  },
  {
   "cell_type": "markdown",
   "id": "2403a0202f1b0033",
   "metadata": {
    "collapsed": false
   },
   "source": [
    "# Export results to CSV - Blind_test1.csv"
   ]
  },
  {
   "cell_type": "markdown",
   "id": "b0f5219706db96d2",
   "metadata": {
    "collapsed": false
   },
   "source": []
  },
  {
   "cell_type": "markdown",
   "source": [],
   "metadata": {
    "collapsed": false
   },
   "id": "c54edcba133edd00"
  },
  {
   "cell_type": "markdown",
   "id": "d09151a58dd93bb6",
   "metadata": {
    "collapsed": false
   },
   "source": [
    "### Predictions Table"
   ]
  },
  {
   "cell_type": "code",
   "execution_count": 40,
   "outputs": [],
   "source": [
    "predictions_df = pd.DataFrame({\n",
    "    'Logistic Regression': flat_list_LR,\n",
    "    'Decision Tree': flat_list_DT,\n",
    "    'Random Forest': flat_list_RF,\n",
    "    'SVM': flat_list_SVM,\n",
    "    'K-Nearest Neighbors': flat_list_KNN,\n",
    "    'XGB': flat_list_XGB,\n",
    "    'Logistic Regression CV': flat_list_LRCV,\n",
    "    'Decision Tree CV': flat_list_DTCV,\n",
    "    'Random Forest CV': flat_list_RFCV,\n",
    "    'SVM CV': flat_list_SVMCV,\n",
    "    'K-Nearest Neighbors CV': flat_list_KNNCV,\n",
    "    'XGB CV': flat_list_XGBCV\n",
    "})\n",
    "\n",
    "predictions_df.to_excel('predictions_blind_test1.xlsx', index=True)"
   ],
   "metadata": {
    "collapsed": false,
    "ExecuteTime": {
     "end_time": "2023-11-23T08:34:04.890532400Z",
     "start_time": "2023-11-23T08:34:03.559568700Z"
    }
   },
   "id": "a08856c915b6694a"
  },
  {
   "cell_type": "markdown",
   "id": "9d83c40116271cae",
   "metadata": {
    "collapsed": false
   },
   "source": [
    "### Comparison of algorithms with and without Cross - Validation"
   ]
  },
  {
   "cell_type": "code",
   "execution_count": 41,
   "id": "343d78ce88166978",
   "metadata": {
    "collapsed": false,
    "ExecuteTime": {
     "end_time": "2023-11-23T08:34:04.899257200Z",
     "start_time": "2023-11-23T08:34:04.891532300Z"
    }
   },
   "outputs": [
    {
     "data": {
      "text/plain": "  Modello  Equal results [%]\n0      LR              82.02\n1      DT              36.01\n2      RF              74.29\n3     SVM              87.59\n4     KNN              90.85\n5     XGB              69.45",
      "text/html": "<div>\n<style scoped>\n    .dataframe tbody tr th:only-of-type {\n        vertical-align: middle;\n    }\n\n    .dataframe tbody tr th {\n        vertical-align: top;\n    }\n\n    .dataframe thead th {\n        text-align: right;\n    }\n</style>\n<table border=\"1\" class=\"dataframe\">\n  <thead>\n    <tr style=\"text-align: right;\">\n      <th></th>\n      <th>Modello</th>\n      <th>Equal results [%]</th>\n    </tr>\n  </thead>\n  <tbody>\n    <tr>\n      <th>0</th>\n      <td>LR</td>\n      <td>82.02</td>\n    </tr>\n    <tr>\n      <th>1</th>\n      <td>DT</td>\n      <td>36.01</td>\n    </tr>\n    <tr>\n      <th>2</th>\n      <td>RF</td>\n      <td>74.29</td>\n    </tr>\n    <tr>\n      <th>3</th>\n      <td>SVM</td>\n      <td>87.59</td>\n    </tr>\n    <tr>\n      <th>4</th>\n      <td>KNN</td>\n      <td>90.85</td>\n    </tr>\n    <tr>\n      <th>5</th>\n      <td>XGB</td>\n      <td>69.45</td>\n    </tr>\n  </tbody>\n</table>\n</div>"
     },
     "execution_count": 41,
     "metadata": {},
     "output_type": "execute_result"
    }
   ],
   "source": [
    "counter_LR = 0\n",
    "counter_DT = 0\n",
    "counter_RF = 0\n",
    "counter_SVM = 0\n",
    "counter_KNN = 0\n",
    "counter_XGB = 0\n",
    "\n",
    "for i1, j1 in zip(flat_list_LR, flat_list_LRCV):\n",
    "    if i1 == j1:\n",
    "        counter_LR += 1\n",
    "    else:\n",
    "        counter_LR += 0\n",
    "\n",
    "for i2, j2 in zip(flat_list_DT, flat_list_DTCV):\n",
    "    if i2 == j2:\n",
    "        counter_DT += 1\n",
    "    else:\n",
    "        counter_DT += 0\n",
    "\n",
    "for i3, j3 in zip(flat_list_RF, flat_list_RFCV):\n",
    "    if i3 == j3:\n",
    "        counter_RF += 1\n",
    "    else:\n",
    "        counter_RF += 0\n",
    "\n",
    "for i4, j4 in zip(flat_list_SVM, flat_list_SVMCV):\n",
    "    if i4 == j4:\n",
    "        counter_SVM += 1\n",
    "    else:\n",
    "        counter_SVM += 0\n",
    "\n",
    "for i5, j5 in zip(flat_list_KNN, flat_list_KNNCV):\n",
    "    if i5 == j5:\n",
    "        counter_KNN += 1\n",
    "    else:\n",
    "        counter_KNN += 0\n",
    "        \n",
    "for i6, j6 in zip(flat_list_XGB, flat_list_XGBCV):\n",
    "    if i6 == j6:\n",
    "        counter_XGB += 1\n",
    "    else:\n",
    "        counter_XGB += 0\n",
    "        \n",
    "data = {\n",
    "    'Modello': ['LR', 'DT', 'RF', 'SVM', 'KNN', 'XGB'],\n",
    "    'Equal results [%]': [counter_LR/100, counter_DT/100, counter_RF/100, counter_SVM/100, counter_KNN/100, counter_XGB/100]\n",
    "}\n",
    "\n",
    "df_exp_acc = pd.DataFrame(data)\n",
    "df_exp_acc.head(6)"
   ]
  },
  {
   "cell_type": "markdown",
   "source": [
    "# Best hyperparameters with GridSearchCV"
   ],
   "metadata": {
    "collapsed": false
   },
   "id": "c5388e573d201822"
  },
  {
   "cell_type": "markdown",
   "source": [
    "### Best Hyperparameters SVM"
   ],
   "metadata": {
    "collapsed": false
   },
   "id": "3bda9c428d99c7c8"
  },
  {
   "cell_type": "markdown",
   "source": [
    "param_grid_SVM = {\n",
    "    'C': [0.1, 1, 10, 100],  \n",
    "    'gamma': [1, 0.1, 0.01, 0.001], \n",
    "    'kernel': ['rbf', 'linear', 'poly']\n",
    "}\n",
    "\n",
    "svm = SVC()\n",
    "grid_search_SVM = GridSearchCV(svm, param_grid_SVM, cv=5, scoring='accuracy', n_jobs=-1)\n",
    "grid_search_SVM.fit(X_train, y_train)\n",
    "\n",
    "best_params_SVM = grid_search_SVM.best_params_\n",
    "best_estimator_SVM = grid_search_SVM.best_estimator_\n",
    "\n",
    "best_estimator_SVM.fit(X_train, y_train)\n",
    "predictions_SVM = best_estimator_SVM.predict(X_test)\n",
    "\n",
    "print(grid_search_SVM.best_params_) \n",
    "print(grid_search_SVM.best_estimator_)"
   ],
   "metadata": {
    "collapsed": false
   },
   "id": "4fa055b5de9a5ac1"
  },
  {
   "cell_type": "markdown",
   "source": [
    "### Best Hyperparameters Decision Tree"
   ],
   "metadata": {
    "collapsed": false
   },
   "id": "c67840226b5e03e7"
  },
  {
   "cell_type": "markdown",
   "source": [
    "param_grid_DT = {\n",
    "    'max_depth': [None, 5, 10, 15],\n",
    "    'min_samples_split': [2, 5, 10],\n",
    "    'min_samples_leaf': [1, 2, 4]\n",
    "}\n",
    "\n",
    "decision_tree = DecisionTreeClassifier()\n",
    "grid_search_DT = GridSearchCV(decision_tree, param_grid_DT, cv=5, scoring='accuracy', n_jobs=-1)\n",
    "grid_search_DT.fit(X_train, y_train)\n",
    "\n",
    "best_params_DT = grid_search_DT.best_params_\n",
    "best_estimator_DT = grid_search_DT.best_estimator_\n",
    "\n",
    "best_estimator_DT.fit(X_train, y_train)\n",
    "predictions_DT = best_estimator_DT.predict(X_test)\n",
    "\n",
    "print(grid_search_DT.best_params_) \n",
    "print(grid_search_DT.best_estimator_)"
   ],
   "metadata": {
    "collapsed": false
   },
   "id": "fd68b3934823130f"
  },
  {
   "cell_type": "markdown",
   "source": [
    "### Best Hyperparameters Random Forest"
   ],
   "metadata": {
    "collapsed": false
   },
   "id": "ddee94e205d7e197"
  },
  {
   "cell_type": "markdown",
   "source": [
    "param_grid_RF = {\n",
    "    'n_estimators': [100, 200, 300],\n",
    "    'max_features': ['sqrt', 'log2'],\n",
    "    'min_samples_split': [2, 5, 10]\n",
    "}\n",
    "\n",
    "random_forest = RandomForestClassifier()\n",
    "grid_search_RF = GridSearchCV(random_forest, param_grid_RF, cv=5, scoring='accuracy', n_jobs=-1)\n",
    "grid_search_RF.fit(X_train, y_train)\n",
    "\n",
    "best_params_RF = grid_search_RF.best_params_\n",
    "best_estimator_RF = grid_search_RF.best_estimator_\n",
    "\n",
    "best_estimator_RF.fit(X_train, y_train)\n",
    "predictions_RF = best_estimator_RF.predict(X_test)\n",
    "\n",
    "print(grid_search_RF.best_params_) \n",
    "print(grid_search_RF.best_estimator_)"
   ],
   "metadata": {
    "collapsed": false
   },
   "id": "f78b3eda2c1636fa"
  },
  {
   "cell_type": "markdown",
   "source": [
    "### Best Hyperparameters K-Nearest Neighbors"
   ],
   "metadata": {
    "collapsed": false
   },
   "id": "e57b863ae6ba3d7e"
  },
  {
   "cell_type": "markdown",
   "source": [
    "param_grid_KNN = {\n",
    "    'n_neighbors': [3, 5, 7, 9],\n",
    "    'weights': ['uniform', 'distance'],\n",
    "    'metric': ['euclidean', 'manhattan']\n",
    "}\n",
    "\n",
    "knn = KNeighborsClassifier()\n",
    "grid_search_KNN = GridSearchCV(knn, param_grid_KNN, cv=5, scoring='accuracy', n_jobs=-1)\n",
    "grid_search_KNN.fit(X_train, y_train)\n",
    "\n",
    "best_params_KNN = grid_search_KNN.best_params_\n",
    "best_estimator_KNN = grid_search_KNN.best_estimator_\n",
    "\n",
    "best_estimator_KNN.fit(X_train, y_train)\n",
    "predictions_KNN = best_estimator_KNN.predict(X_test)\n",
    "\n",
    "print(grid_search_KNN.best_params_) \n",
    "print(grid_search_KNN.best_estimator_)"
   ],
   "metadata": {
    "collapsed": false
   },
   "id": "64a4a77772d5a75d"
  },
  {
   "cell_type": "markdown",
   "source": [
    "### Best Hyperparameters XGBoost"
   ],
   "metadata": {
    "collapsed": false
   },
   "id": "31f75035ec110cce"
  },
  {
   "cell_type": "markdown",
   "source": [
    "param_grid_XGB = {\n",
    "    'learning_rate': [0.1, 0.01, 0.001],\n",
    "    'max_depth': [3, 5, 7],\n",
    "    'n_estimators': [100, 200, 300]\n",
    "}\n",
    "\n",
    "xgb = XGBClassifier()\n",
    "grid_search_XGB = GridSearchCV(xgb, param_grid_XGB, cv=5, scoring='accuracy', n_jobs=-1)\n",
    "grid_search_XGB.fit(X_train, y_train)\n",
    "\n",
    "best_params_XGB = grid_search_XGB.best_params_\n",
    "best_estimator_XGB = grid_search_XGB.best_estimator_\n",
    "\n",
    "best_estimator_XGB.fit(X_train, y_train)\n",
    "predictions_XGB = best_estimator_XGB.predict(X_test)\n",
    "\n",
    "print(grid_search_XGB.best_params_) \n",
    "print(grid_search_XGB.best_estimator_)"
   ],
   "metadata": {
    "collapsed": false
   },
   "id": "7f3ff8eaf45ffd21"
  },
  {
   "cell_type": "markdown",
   "source": [
    "### Best Hyperparameters Logistic Regression"
   ],
   "metadata": {
    "collapsed": false
   },
   "id": "20d52971f36d4f21"
  },
  {
   "cell_type": "markdown",
   "source": [
    "param_grid_LR = {\n",
    "    'C': [0.001, 0.01, 0.1, 1, 10, 100],\n",
    "    'penalty': ['l1', 'l2'],\n",
    "    'solver': ['liblinear', 'saga']\n",
    "}\n",
    "\n",
    "log_reg = LogisticRegression(max_iter=10000)\n",
    "grid_search_LR = GridSearchCV(log_reg, param_grid_LR, cv=5, scoring='accuracy', n_jobs=-1)\n",
    "grid_search_LR.fit(X_train, y_train)\n",
    "\n",
    "best_params_LR = grid_search_LR.best_params_\n",
    "best_estimator_LR = grid_search_LR.best_estimator_\n",
    "\n",
    "best_estimator_LR.fit(X_train, y_train)\n",
    "predictions_LR = best_estimator_LR.predict(X_test)\n",
    "\n",
    "print(grid_search_LR.best_params_) \n",
    "print(grid_search_LR.best_estimator_)"
   ],
   "metadata": {
    "collapsed": false
   },
   "id": "6466ec2439debf38"
  }
 ],
 "metadata": {
  "kernelspec": {
   "display_name": "Python 3 (ipykernel)",
   "language": "python",
   "name": "python3"
  },
  "language_info": {
   "codemirror_mode": {
    "name": "ipython",
    "version": 3
   },
   "file_extension": ".py",
   "mimetype": "text/x-python",
   "name": "python",
   "nbconvert_exporter": "python",
   "pygments_lexer": "ipython3",
   "version": "3.11.4"
  }
 },
 "nbformat": 4,
 "nbformat_minor": 5
}
